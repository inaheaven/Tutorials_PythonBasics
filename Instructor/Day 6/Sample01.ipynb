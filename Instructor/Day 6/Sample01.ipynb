{
 "cells": [
  {
   "cell_type": "code",
   "execution_count": 34,
   "metadata": {},
   "outputs": [
    {
     "name": "stdout",
     "output_type": "stream",
     "text": [
      "     Name  id subject_id\n",
      "0     Tom   1       sub1\n",
      "1     Amy   2       sub2\n",
      "2  Thomas   3       sub3\n",
      "    Name  id subject_id\n",
      "0   Kate   1       sub2\n",
      "1   John   2       sub4\n",
      "2  Betty   3       sub5\n"
     ]
    },
    {
     "data": {
      "text/html": [
       "<div>\n",
       "<style scoped>\n",
       "    .dataframe tbody tr th:only-of-type {\n",
       "        vertical-align: middle;\n",
       "    }\n",
       "\n",
       "    .dataframe tbody tr th {\n",
       "        vertical-align: top;\n",
       "    }\n",
       "\n",
       "    .dataframe thead th {\n",
       "        text-align: right;\n",
       "    }\n",
       "</style>\n",
       "<table border=\"1\" class=\"dataframe\">\n",
       "  <thead>\n",
       "    <tr style=\"text-align: right;\">\n",
       "      <th></th>\n",
       "      <th>Name_x</th>\n",
       "      <th>id</th>\n",
       "      <th>subject_id</th>\n",
       "      <th>Name_y</th>\n",
       "    </tr>\n",
       "  </thead>\n",
       "  <tbody>\n",
       "    <tr>\n",
       "      <th>0</th>\n",
       "      <td>Tom</td>\n",
       "      <td>1</td>\n",
       "      <td>sub1</td>\n",
       "      <td>NaN</td>\n",
       "    </tr>\n",
       "    <tr>\n",
       "      <th>1</th>\n",
       "      <td>Amy</td>\n",
       "      <td>2</td>\n",
       "      <td>sub2</td>\n",
       "      <td>NaN</td>\n",
       "    </tr>\n",
       "    <tr>\n",
       "      <th>2</th>\n",
       "      <td>Thomas</td>\n",
       "      <td>3</td>\n",
       "      <td>sub3</td>\n",
       "      <td>NaN</td>\n",
       "    </tr>\n",
       "  </tbody>\n",
       "</table>\n",
       "</div>"
      ],
      "text/plain": [
       "   Name_x  id subject_id Name_y\n",
       "0     Tom   1       sub1    NaN\n",
       "1     Amy   2       sub2    NaN\n",
       "2  Thomas   3       sub3    NaN"
      ]
     },
     "execution_count": 34,
     "metadata": {},
     "output_type": "execute_result"
    }
   ],
   "source": [
    "import numpy as np\n",
    "import pandas as pd\n",
    "import matplotlib as plt\n",
    "\n",
    "df1 = pd.DataFrame({ 'key' : ['b','b','a','c','a','a','b',], 'data1' : range(7)})\n",
    "df2 = pd.DataFrame({'key' : ['a','b','c'], 'data2' : range(3)})\n",
    "#print(df1)\n",
    "#print(df2)\n",
    "#pd.merge(df1, df2)\n",
    "#pd.merge(df1, df2, on='key')\n",
    "#pd.merge(df1, df2, left_on='key')\n",
    "#pd.merge(df1, df2, right_on='key')\n",
    "#rint(pd.merge(df1, df2, on='key', how='inner'))\n",
    "\n",
    "#df3 = pd.DataFrame({'key' : ['b','c','a'], 'data1' : range(3)})\n",
    "#df4 = pd.DataFrame({'key' : ['a','b','c'], 'data2' : range(3)})\n",
    "#print(df3)\n",
    "#print(df4)\n",
    "\n",
    "df3 = pd.DataFrame({'id' : [1,2, 3], 'Name' : ['Tom', 'Amy', 'Thomas'], 'subject_id' : ['sub1', 'sub2', 'sub3']})\n",
    "df4 = pd.DataFrame({'id' : [1,2, 3], 'Name' : ['Kate', 'John', 'Betty'],'subject_id' : ['sub2', 'sub4', 'sub5']})\n",
    "print(df3)\n",
    "print(df4)\n",
    "\n",
    "df5 = pd.merge(df3, df4, on='subject_id', how='left')\n",
    "df5\n",
    "df6 = pd.merge(df3, df4, on=['id','subject_id'], how='left')\n",
    "df6\n"
   ]
  },
  {
   "cell_type": "code",
   "execution_count": 42,
   "metadata": {},
   "outputs": [
    {
     "data": {
      "text/plain": [
       "0      Tom\n",
       "1     John\n",
       "2      Amy\n",
       "3        0\n",
       "4    Tomas\n",
       "dtype: object"
      ]
     },
     "execution_count": 42,
     "metadata": {},
     "output_type": "execute_result"
    }
   ],
   "source": [
    "data = pd.Series(['Tom', 'John', 'Amy', np.nan, 'Tomas'])\n",
    "data\n",
    "data.isnull()\n",
    "data.fillna(0, inplace=True)\n",
    "#data.dropna()\n",
    "data"
   ]
  },
  {
   "cell_type": "code",
   "execution_count": 51,
   "metadata": {},
   "outputs": [
    {
     "data": {
      "text/html": [
       "<div>\n",
       "<style scoped>\n",
       "    .dataframe tbody tr th:only-of-type {\n",
       "        vertical-align: middle;\n",
       "    }\n",
       "\n",
       "    .dataframe tbody tr th {\n",
       "        vertical-align: top;\n",
       "    }\n",
       "\n",
       "    .dataframe thead th {\n",
       "        text-align: right;\n",
       "    }\n",
       "</style>\n",
       "<table border=\"1\" class=\"dataframe\">\n",
       "  <thead>\n",
       "    <tr style=\"text-align: right;\">\n",
       "      <th></th>\n",
       "      <th>0</th>\n",
       "      <th>1</th>\n",
       "      <th>2</th>\n",
       "    </tr>\n",
       "  </thead>\n",
       "  <tbody>\n",
       "    <tr>\n",
       "      <th>0</th>\n",
       "      <td>1.012827</td>\n",
       "      <td>NaN</td>\n",
       "      <td>NaN</td>\n",
       "    </tr>\n",
       "    <tr>\n",
       "      <th>1</th>\n",
       "      <td>-0.206068</td>\n",
       "      <td>NaN</td>\n",
       "      <td>NaN</td>\n",
       "    </tr>\n",
       "    <tr>\n",
       "      <th>2</th>\n",
       "      <td>0.130403</td>\n",
       "      <td>NaN</td>\n",
       "      <td>1.026863</td>\n",
       "    </tr>\n",
       "    <tr>\n",
       "      <th>3</th>\n",
       "      <td>0.760153</td>\n",
       "      <td>NaN</td>\n",
       "      <td>3.251385</td>\n",
       "    </tr>\n",
       "    <tr>\n",
       "      <th>4</th>\n",
       "      <td>1.700615</td>\n",
       "      <td>-1.473364</td>\n",
       "      <td>-1.060287</td>\n",
       "    </tr>\n",
       "    <tr>\n",
       "      <th>5</th>\n",
       "      <td>-2.575863</td>\n",
       "      <td>0.228325</td>\n",
       "      <td>-1.542489</td>\n",
       "    </tr>\n",
       "    <tr>\n",
       "      <th>6</th>\n",
       "      <td>-0.419041</td>\n",
       "      <td>1.260895</td>\n",
       "      <td>-1.192682</td>\n",
       "    </tr>\n",
       "  </tbody>\n",
       "</table>\n",
       "</div>"
      ],
      "text/plain": [
       "          0         1         2\n",
       "0  1.012827       NaN       NaN\n",
       "1 -0.206068       NaN       NaN\n",
       "2  0.130403       NaN  1.026863\n",
       "3  0.760153       NaN  3.251385\n",
       "4  1.700615 -1.473364 -1.060287\n",
       "5 -2.575863  0.228325 -1.542489\n",
       "6 -0.419041  1.260895 -1.192682"
      ]
     },
     "execution_count": 51,
     "metadata": {},
     "output_type": "execute_result"
    }
   ],
   "source": [
    "data2 = pd.DataFrame(np.random.randn(7,3))\n",
    "data2\n",
    "data2.iloc[:4, 1] = np.nan\n",
    "data2.iloc[:2, 2] = np.nan\n",
    "data2\n",
    "#data2.dropna()"
   ]
  },
  {
   "cell_type": "code",
   "execution_count": null,
   "metadata": {},
   "outputs": [],
   "source": []
  },
  {
   "cell_type": "code",
   "execution_count": null,
   "metadata": {},
   "outputs": [],
   "source": []
  }
 ],
 "metadata": {
  "kernelspec": {
   "display_name": "Python 3",
   "language": "python",
   "name": "python3"
  },
  "language_info": {
   "codemirror_mode": {
    "name": "ipython",
    "version": 3
   },
   "file_extension": ".py",
   "mimetype": "text/x-python",
   "name": "python",
   "nbconvert_exporter": "python",
   "pygments_lexer": "ipython3",
   "version": "3.6.4"
  }
 },
 "nbformat": 4,
 "nbformat_minor": 2
}
