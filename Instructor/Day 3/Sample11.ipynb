{
 "cells": [
  {
   "cell_type": "code",
   "execution_count": 3,
   "metadata": {},
   "outputs": [
    {
     "name": "stdout",
     "output_type": "stream",
     "text": [
      "[ 0  5 10 15 20 25 30 35 40 45 50 55]\n",
      "(12,)\n"
     ]
    }
   ],
   "source": [
    "import numpy as np\n",
    "a = np.arange(0,60,5)\n",
    "print(a)\n",
    "print(a.shape)"
   ]
  },
  {
   "cell_type": "code",
   "execution_count": 7,
   "metadata": {},
   "outputs": [
    {
     "name": "stdout",
     "output_type": "stream",
     "text": [
      "(3, 4)\n",
      "[[ 0  5 10 15]\n",
      " [20 25 30 35]\n",
      " [40 45 50 55]]\n",
      "0\n",
      "5\n",
      "10\n",
      "15\n",
      "20\n",
      "25\n",
      "30\n",
      "35\n",
      "40\n",
      "45\n",
      "50\n",
      "55\n"
     ]
    }
   ],
   "source": [
    "a1 = a.reshape(3, 4)\n",
    "print(a1.shape)\n",
    "print(a1)\n",
    "for x in np.nditer(a1): \n",
    "    print(x)"
   ]
  },
  {
   "cell_type": "code",
   "execution_count": 18,
   "metadata": {},
   "outputs": [
    {
     "name": "stdout",
     "output_type": "stream",
     "text": [
      "(5,)\n",
      "(5, 1)\n",
      "(3, 2)\n",
      "(3, 2, 1)\n"
     ]
    }
   ],
   "source": [
    "# 1d -> 2d\n",
    "import numpy as np\n",
    "a2 = np.array([10, 11, 12, 13, 14])\n",
    "print(a2.shape)\n",
    "a3 = a2.reshape(a2.shape[0], 1)\n",
    "print(a3.shape)\n",
    "# 2d -> 3d\n",
    "a4 = np.array([[10,11], [12, 13], [14, 15]])\n",
    "print(a4.shape)\n",
    "a5 = a4.reshape((a4.shape[0], a4.shape[1], 1))\n",
    "print(a5.shape)"
   ]
  },
  {
   "cell_type": "code",
   "execution_count": 27,
   "metadata": {},
   "outputs": [
    {
     "data": {
      "text/plain": [
       "array([[0.        , 0.        , 0.        , 0.        ],\n",
       "       [0.06930616, 1.68252128, 2.05091894, 1.21065261],\n",
       "       [0.        , 0.17476703, 0.08241433, 0.12966738],\n",
       "       [0.87026145, 0.        , 0.        , 0.        ],\n",
       "       [0.5492264 , 0.        , 0.02842844, 0.13576575],\n",
       "       [0.56761414, 0.        , 0.16897945, 0.        ],\n",
       "       [1.56300025, 1.4649133 , 0.68117862, 0.        ]])"
      ]
     },
     "execution_count": 27,
     "metadata": {},
     "output_type": "execute_result"
    }
   ],
   "source": [
    "# boolean indexing\n",
    "names = np.array(['Tom', 'Joe', 'Will', 'Thomas'])\n",
    "data = np.random.randn(7, 4)\n",
    "#print(names)\n",
    "#print(data)\n",
    "names == 'Tom'\n",
    "names != 'Tom'\n",
    "data[data < 0] = 0\n",
    "data"
   ]
  },
  {
   "cell_type": "code",
   "execution_count": 32,
   "metadata": {},
   "outputs": [
    {
     "data": {
      "text/plain": [
       "array([[4., 4., 4., 4.],\n",
       "       [3., 3., 3., 3.],\n",
       "       [0., 0., 0., 0.],\n",
       "       [6., 6., 6., 6.]])"
      ]
     },
     "execution_count": 32,
     "metadata": {},
     "output_type": "execute_result"
    }
   ],
   "source": [
    "arr = np.empty((8,4))\n",
    "#print(arr)\n",
    "for i in range(8):\n",
    "    arr[i] = i\n",
    "#arr\n",
    "#arr[[4, 3, 0, 6]]"
   ]
  },
  {
   "cell_type": "code",
   "execution_count": 36,
   "metadata": {},
   "outputs": [
    {
     "name": "stdout",
     "output_type": "stream",
     "text": [
      "[ 1.25194891 -0.45193232 -0.86127297  0.10302908 -0.72533577  0.34674227]\n",
      "[-0.86127297 -0.72533577 -0.45193232  0.10302908  0.34674227  1.25194891]\n"
     ]
    }
   ],
   "source": [
    "arr = np.random.randn(6)\n",
    "print(arr)\n",
    "arr.sort()\n",
    "print(arr)"
   ]
  },
  {
   "cell_type": "code",
   "execution_count": null,
   "metadata": {},
   "outputs": [],
   "source": []
  },
  {
   "cell_type": "code",
   "execution_count": null,
   "metadata": {},
   "outputs": [],
   "source": []
  }
 ],
 "metadata": {
  "kernelspec": {
   "display_name": "Python 3",
   "language": "python",
   "name": "python3"
  },
  "language_info": {
   "codemirror_mode": {
    "name": "ipython",
    "version": 3
   },
   "file_extension": ".py",
   "mimetype": "text/x-python",
   "name": "python",
   "nbconvert_exporter": "python",
   "pygments_lexer": "ipython3",
   "version": "3.6.4"
  }
 },
 "nbformat": 4,
 "nbformat_minor": 2
}
