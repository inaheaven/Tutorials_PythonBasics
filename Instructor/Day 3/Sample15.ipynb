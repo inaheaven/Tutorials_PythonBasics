{
 "cells": [
  {
   "cell_type": "code",
   "execution_count": 1,
   "metadata": {},
   "outputs": [
    {
     "name": "stdout",
     "output_type": "stream",
     "text": [
      "Empty DataFrame\n",
      "Columns: []\n",
      "Index: []\n"
     ]
    }
   ],
   "source": [
    "import pandas as pd\n",
    "df = pd.DataFrame()\n",
    "print(df)"
   ]
  },
  {
   "cell_type": "code",
   "execution_count": 3,
   "metadata": {},
   "outputs": [
    {
     "name": "stdout",
     "output_type": "stream",
     "text": [
      "   0\n",
      "0  1\n",
      "1  2\n",
      "2  3\n",
      "3  4\n",
      "4  5\n"
     ]
    }
   ],
   "source": [
    "data = [1, 2, 3, 4, 5]\n",
    "df = pd.DataFrame(data)\n",
    "print(df)"
   ]
  },
  {
   "cell_type": "code",
   "execution_count": 9,
   "metadata": {
    "scrolled": true
   },
   "outputs": [
    {
     "name": "stdout",
     "output_type": "stream",
     "text": [
      "   Name   Age\n",
      "0  Alex  10.0\n",
      "1   Bob  12.0\n",
      "2   Tom  12.0\n"
     ]
    }
   ],
   "source": [
    "data2 = [['Alex', 10], ['Bob', 12], ['Tom', 12]]\n",
    "df = pd.DataFrame(data2, columns=['Name', 'Age'], dtype=float)\n",
    "print(df)"
   ]
  },
  {
   "cell_type": "code",
   "execution_count": 10,
   "metadata": {},
   "outputs": [
    {
     "name": "stdout",
     "output_type": "stream",
     "text": [
      "   Age  Name\n",
      "0   10  Alex\n",
      "1   20   Bob\n",
      "2   30   Tom\n"
     ]
    }
   ],
   "source": [
    "data3 = {'Name' : ['Alex', 'Bob', 'Tom'], 'Age': [10,20,30]}\n",
    "df = pd.DataFrame(data3 )\n",
    "print(df)"
   ]
  },
  {
   "cell_type": "code",
   "execution_count": 12,
   "metadata": {},
   "outputs": [
    {
     "name": "stdout",
     "output_type": "stream",
     "text": [
      "   a  b  c\n",
      "0  1  2  3\n",
      "1  4  5  6\n"
     ]
    }
   ],
   "source": [
    "data4 = [{'a':1, 'b':2, 'c': 3}, {'a':4, 'b':5, 'c': 6}]\n",
    "df = pd.DataFrame(data4)\n",
    "print(df)"
   ]
  },
  {
   "cell_type": "code",
   "execution_count": 20,
   "metadata": {},
   "outputs": [
    {
     "name": "stdout",
     "output_type": "stream",
     "text": [
      "   one  two\n",
      "0    1    2\n",
      "1    2    4\n",
      "2    4    5\n",
      "0    1\n",
      "1    2\n",
      "2    4\n",
      "Name: one, dtype: int64\n",
      "   one  two  three\n",
      "0    1    2      3\n",
      "1    2    4      4\n",
      "2    4    5      5\n",
      "   one  three\n",
      "0    1      3\n",
      "1    2      4\n",
      "2    4      5\n"
     ]
    },
    {
     "data": {
      "text/plain": [
       "0    1\n",
       "1    2\n",
       "2    4\n",
       "Name: one, dtype: int64"
      ]
     },
     "execution_count": 20,
     "metadata": {},
     "output_type": "execute_result"
    }
   ],
   "source": [
    "data5 = {'one' : pd.Series([1,2,4]), 'two' : pd.Series([2, 4, 5])}\n",
    "df = pd.DataFrame(data5)\n",
    "print(df)\n",
    "print(df['one'])\n",
    "df['three'] = pd.Series([3,4,5])\n",
    "print(df)\n",
    "del df['two']\n",
    "print(df)\n",
    "df['one']"
   ]
  },
  {
   "cell_type": "code",
   "execution_count": null,
   "metadata": {},
   "outputs": [],
   "source": []
  }
 ],
 "metadata": {
  "kernelspec": {
   "display_name": "Python 3",
   "language": "python",
   "name": "python3"
  },
  "language_info": {
   "codemirror_mode": {
    "name": "ipython",
    "version": 3
   },
   "file_extension": ".py",
   "mimetype": "text/x-python",
   "name": "python",
   "nbconvert_exporter": "python",
   "pygments_lexer": "ipython3",
   "version": "3.6.4"
  }
 },
 "nbformat": 4,
 "nbformat_minor": 2
}
