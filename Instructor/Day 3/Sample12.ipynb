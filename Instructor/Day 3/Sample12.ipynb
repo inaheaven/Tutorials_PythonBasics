{
 "cells": [
  {
   "cell_type": "code",
   "execution_count": 12,
   "metadata": {},
   "outputs": [
    {
     "name": "stdout",
     "output_type": "stream",
     "text": [
      "[[ 1.          0.88845837  0.21370612  0.4919565 ]\n",
      " [ 2.          0.56817447  0.61363956  0.17227638]\n",
      " [ 3.          0.56024969  0.68163566  0.51237708]\n",
      " [ 4.          0.15528457  0.74950444  0.4995597 ]\n",
      " [ 5.          0.78796339  0.21835737  0.22937796]\n",
      " [ 6.          0.71616586  0.83032344  0.21190183]\n",
      " [ 7.          0.87086615  0.07615078  0.67658666]\n",
      " [ 8.          0.6967517   0.73512143  0.72976436]\n",
      " [ 9.          0.42947289  0.23594083  0.70472627]\n",
      " [10.          0.41416397  0.68295541  0.36719596]\n",
      " [11.          0.97869349  0.59200144  0.05129855]\n",
      " [12.          0.77641082  0.16407058  0.29474843]\n",
      " [13.          0.93541419  0.35107144  0.65239285]\n",
      " [14.          0.92015285  0.73558359  0.57026366]\n",
      " [15.          0.364472    0.08949353  0.53026277]\n",
      " [16.          0.769254    0.26652379  0.15800702]\n",
      " [17.          0.66539313  0.35265765  0.06617042]\n",
      " [18.          0.77536458  0.96295861  0.93555429]\n",
      " [19.          0.83846772  0.98465766  0.89300263]\n",
      " [20.          0.15428763  0.07771886  0.78838802]]\n"
     ]
    },
    {
     "data": {
      "text/plain": [
       "array([[ 1.        ,  0.88845837],\n",
       "       [ 2.        ,  0.56817447],\n",
       "       [ 3.        ,  0.56024969],\n",
       "       [ 4.        ,  0.15528457],\n",
       "       [ 5.        ,  0.78796339],\n",
       "       [ 6.        ,  0.71616586],\n",
       "       [ 7.        ,  0.87086615],\n",
       "       [ 8.        ,  0.6967517 ],\n",
       "       [ 9.        ,  0.42947289],\n",
       "       [10.        ,  0.41416397],\n",
       "       [11.        ,  0.97869349],\n",
       "       [12.        ,  0.77641082],\n",
       "       [13.        ,  0.93541419],\n",
       "       [14.        ,  0.92015285],\n",
       "       [15.        ,  0.364472  ],\n",
       "       [16.        ,  0.769254  ],\n",
       "       [17.        ,  0.66539313],\n",
       "       [18.        ,  0.77536458],\n",
       "       [19.        ,  0.83846772],\n",
       "       [20.        ,  0.15428763]])"
      ]
     },
     "execution_count": 12,
     "metadata": {},
     "output_type": "execute_result"
    }
   ],
   "source": [
    "import numpy as np\n",
    "import csv\n",
    "data = np.loadtxt(\"numpy_data.csv\", delimiter=',', skiprows=2)\n",
    "print(data)\n",
    "data[:,:2]"
   ]
  },
  {
   "cell_type": "code",
   "execution_count": 13,
   "metadata": {},
   "outputs": [],
   "source": [
    "names = [\"xdata\", \"y1\", \"y2\", \"y3\"]\n",
    "data3 = np.genfromtxt(\"numpy_data.csv\", dtype=None, delimiter=',', names = names, skip_heade)"
   ]
  },
  {
   "cell_type": "code",
   "execution_count": null,
   "metadata": {},
   "outputs": [],
   "source": []
  },
  {
   "cell_type": "code",
   "execution_count": null,
   "metadata": {},
   "outputs": [],
   "source": []
  },
  {
   "cell_type": "code",
   "execution_count": null,
   "metadata": {},
   "outputs": [],
   "source": []
  },
  {
   "cell_type": "code",
   "execution_count": null,
   "metadata": {},
   "outputs": [],
   "source": []
  }
 ],
 "metadata": {
  "kernelspec": {
   "display_name": "Python 3",
   "language": "python",
   "name": "python3"
  },
  "language_info": {
   "codemirror_mode": {
    "name": "ipython",
    "version": 3
   },
   "file_extension": ".py",
   "mimetype": "text/x-python",
   "name": "python",
   "nbconvert_exporter": "python",
   "pygments_lexer": "ipython3",
   "version": "3.6.4"
  }
 },
 "nbformat": 4,
 "nbformat_minor": 2
}
