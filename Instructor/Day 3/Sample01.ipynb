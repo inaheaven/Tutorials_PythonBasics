{
 "cells": [
  {
   "cell_type": "code",
   "execution_count": 14,
   "metadata": {},
   "outputs": [
    {
     "name": "stdout",
     "output_type": "stream",
     "text": [
      "Hello, Python\n",
      "var1[0] H\n",
      "var1[1:5] ello\n",
      "python\n",
      "var2[1:5] ytho\n",
      "y\n",
      "o\n",
      "thon\n",
      "pytho\n",
      "test y\n"
     ]
    }
   ],
   "source": [
    "var1 = 'Hello, Python'\n",
    "print(var1)\n",
    "print(\"var1[0]\", var1[0])\n",
    "print(\"var1[1:5]\", var1[1:5])\n",
    "var2 = 'python'\n",
    "print(var2)\n",
    "print(\"var2[1:5]\", var2[1:5])\n",
    "print(var2[1:2])\n",
    "print(var2[-2:-1])\n",
    "print(var2[-4:])\n",
    "print(var2[:-1])\n",
    "print(\"test %s\" % var2[1:2])"
   ]
  },
  {
   "cell_type": "code",
   "execution_count": 30,
   "metadata": {},
   "outputs": [
    {
     "name": "stdout",
     "output_type": "stream",
     "text": [
      "['pizza', 'nuddle']\n",
      "['pizza']\n",
      "[1]\n",
      "1\n",
      "pizza\n"
     ]
    }
   ],
   "source": [
    "list1 = ['pizza', 'nuddle']\n",
    "print(list1)\n",
    "list2 = [1, 2, 3, 4]\n",
    "list3 = [\"1\", \"2\"]\n",
    "list4 = [1, \"pizza\"]\n",
    "print(list4[1:2])\n",
    "print(list4[:-1])\n",
    "print(list4[0])\n",
    "print(list4[1])"
   ]
  },
  {
   "cell_type": "code",
   "execution_count": 33,
   "metadata": {},
   "outputs": [
    {
     "name": "stdout",
     "output_type": "stream",
     "text": [
      "('python', 'java', 'c++')\n",
      "(1, 2, 3, 4)\n",
      "('a', 'b')\n",
      "()\n"
     ]
    }
   ],
   "source": [
    "tup1 = ('python', 'java', 'c++')\n",
    "tup2 = (1, 2, 3, 4)\n",
    "tup3 = \"a\", \"b\"\n",
    "tup4 = ()\n",
    "print(tup1)\n",
    "print(tup2)\n",
    "print(tup3)\n",
    "print(tup4)"
   ]
  },
  {
   "cell_type": "code",
   "execution_count": null,
   "metadata": {},
   "outputs": [],
   "source": []
  },
  {
   "cell_type": "code",
   "execution_count": null,
   "metadata": {},
   "outputs": [],
   "source": []
  },
  {
   "cell_type": "code",
   "execution_count": null,
   "metadata": {},
   "outputs": [],
   "source": []
  }
 ],
 "metadata": {
  "kernelspec": {
   "display_name": "Python 3",
   "language": "python",
   "name": "python3"
  },
  "language_info": {
   "codemirror_mode": {
    "name": "ipython",
    "version": 3
   },
   "file_extension": ".py",
   "mimetype": "text/x-python",
   "name": "python",
   "nbconvert_exporter": "python",
   "pygments_lexer": "ipython3",
   "version": "3.6.4"
  }
 },
 "nbformat": 4,
 "nbformat_minor": 2
}
