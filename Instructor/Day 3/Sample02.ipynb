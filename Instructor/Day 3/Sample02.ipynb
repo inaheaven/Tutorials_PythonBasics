{
 "cells": [
  {
   "cell_type": "code",
   "execution_count": 14,
   "metadata": {},
   "outputs": [
    {
     "name": "stdout",
     "output_type": "stream",
     "text": [
      "Hello, Python\n",
      "var1[0] H\n",
      "var1[1:5] ello\n",
      "python\n",
      "var2[1:5] ytho\n",
      "y\n",
      "o\n",
      "thon\n",
      "pytho\n",
      "test y\n"
     ]
    }
   ],
   "source": [
    "var1 = 'Hello, Python'\n",
    "print(var1)\n",
    "print(\"var1[0]\", var1[0])\n",
    "print(\"var1[1:5]\", var1[1:5])\n",
    "var2 = 'python'\n",
    "print(var2)\n",
    "print(\"var2[1:5]\", var2[1:5])\n",
    "print(var2[1:2])\n",
    "print(var2[-2:-1])\n",
    "print(var2[-4:])\n",
    "print(var2[:-1])\n",
    "print(\"test %s\" % var2[1:2])"
   ]
  },
  {
   "cell_type": "code",
   "execution_count": 30,
   "metadata": {},
   "outputs": [
    {
     "name": "stdout",
     "output_type": "stream",
     "text": [
      "['pizza', 'nuddle']\n",
      "['pizza']\n",
      "[1]\n",
      "1\n",
      "pizza\n"
     ]
    }
   ],
   "source": [
    "list1 = ['pizza', 'nuddle']\n",
    "print(list1)\n",
    "list2 = [1, 2, 3, 4]\n",
    "list3 = [\"1\", \"2\"]\n",
    "list4 = [1, \"pizza\"]\n",
    "print(list4[1:2])\n",
    "print(list4[:-1])\n",
    "print(list4[0])\n",
    "print(list4[1])"
   ]
  },
  {
   "cell_type": "code",
   "execution_count": 35,
   "metadata": {},
   "outputs": [
    {
     "name": "stdout",
     "output_type": "stream",
     "text": [
      "('python', 'java', 'c++')\n",
      "(1, 2, 3, 4)\n",
      "('a', 'b')\n",
      "()\n",
      "(50,)\n",
      "('java',)\n"
     ]
    }
   ],
   "source": [
    "tup1 = ('python', 'java', 'c++')\n",
    "tup2 = (1, 2, 3, 4)\n",
    "tup3 = \"a\", \"b\"\n",
    "tup4 = ()\n",
    "tup5 = (50,)\n",
    "print(tup1)\n",
    "print(tup2)\n",
    "print(tup3)\n",
    "print(tup4)\n",
    "print(tup5)\n",
    "print(tup1[1:2])"
   ]
  },
  {
   "cell_type": "code",
   "execution_count": 36,
   "metadata": {},
   "outputs": [
    {
     "name": "stdout",
     "output_type": "stream",
     "text": [
      "(10, 20, 30, 'abc', 'def')\n"
     ]
    }
   ],
   "source": [
    "tup6 = (10, 20, 30)\n",
    "tup7 = ('abc', 'def')\n",
    "tup8 = tup6 + tup7\n",
    "print(tup8)"
   ]
  },
  {
   "cell_type": "code",
   "execution_count": 38,
   "metadata": {
    "scrolled": true
   },
   "outputs": [
    {
     "name": "stdout",
     "output_type": "stream",
     "text": [
      "10\n",
      "20\n",
      "30\n"
     ]
    }
   ],
   "source": [
    "for x in tup6: print(x)"
   ]
  },
  {
   "cell_type": "code",
   "execution_count": 41,
   "metadata": {
    "scrolled": true
   },
   "outputs": [
    {
     "name": "stdout",
     "output_type": "stream",
     "text": [
      "{'name': 'tom', 'age': 20, 'location': 'seoul'}\n"
     ]
    }
   ],
   "source": [
    "dict = {'name': 'tom', 'age' : 20, 'location' : 'seoul'}\n",
    "print(dict)"
   ]
  },
  {
   "cell_type": "code",
   "execution_count": 42,
   "metadata": {
    "scrolled": true
   },
   "outputs": [
    {
     "name": "stdout",
     "output_type": "stream",
     "text": [
      "tom\n"
     ]
    }
   ],
   "source": [
    "print(dict['name'])"
   ]
  },
  {
   "cell_type": "code",
   "execution_count": null,
   "metadata": {},
   "outputs": [],
   "source": []
  },
  {
   "cell_type": "code",
   "execution_count": null,
   "metadata": {},
   "outputs": [],
   "source": []
  },
  {
   "cell_type": "code",
   "execution_count": null,
   "metadata": {},
   "outputs": [],
   "source": []
  }
 ],
 "metadata": {
  "kernelspec": {
   "display_name": "Python 3",
   "language": "python",
   "name": "python3"
  },
  "language_info": {
   "codemirror_mode": {
    "name": "ipython",
    "version": 3
   },
   "file_extension": ".py",
   "mimetype": "text/x-python",
   "name": "python",
   "nbconvert_exporter": "python",
   "pygments_lexer": "ipython3",
   "version": "3.6.4"
  }
 },
 "nbformat": 4,
 "nbformat_minor": 2
}
