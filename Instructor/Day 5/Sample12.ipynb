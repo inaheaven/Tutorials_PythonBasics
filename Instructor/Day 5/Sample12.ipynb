{
 "cells": [
  {
   "cell_type": "code",
   "execution_count": 13,
   "metadata": {
    "scrolled": true
   },
   "outputs": [
    {
     "name": "stdout",
     "output_type": "stream",
     "text": [
      "<title>The Dormouse's story</title>\n",
      "The Dormouse's story\n"
     ]
    },
    {
     "data": {
      "text/plain": [
       "[<a class=\"sister\" href=\"http://example.com/elsie\" id=\"link1\">Elsie</a>,\n",
       " <a class=\"sister\" href=\"http://example.com/lacie\" id=\"link2\">Lacie</a>,\n",
       " <a class=\"sister\" href=\"http://example.com/tillie\" id=\"link3\">Tillie</a>]"
      ]
     },
     "execution_count": 13,
     "metadata": {},
     "output_type": "execute_result"
    }
   ],
   "source": [
    "html_doc = \"\"\"\n",
    "<html><head><title>The Dormouse's story</title></head>\n",
    "<body>\n",
    "<p class=\"title\"><b>The Dormouse's story</b></p>\n",
    "\n",
    "<p class=\"story\">Once upon a time there were three little sisters; and their names were\n",
    "<a href=\"http://example.com/elsie\" class=\"sister\" id=\"link1\">Elsie</a>,\n",
    "<a href=\"http://example.com/lacie\" class=\"sister\" id=\"link2\">Lacie</a> and\n",
    "<a href=\"http://example.com/tillie\" class=\"sister\" id=\"link3\">Tillie</a>;\n",
    "and they lived at the bottom of a well.</p>\n",
    "<p class=\"story\">...</p>\n",
    "\"\"\"\n",
    "\n",
    "from bs4 import BeautifulSoup\n",
    "soup = BeautifulSoup(html_doc, 'html.parser')\n",
    "print(soup.title)\n",
    "print(soup.title.string)\n",
    "soup.title.parent.name\n",
    "soup.p['class']\n",
    "soup.a\n",
    "soup.find_all('a')"
   ]
  },
  {
   "cell_type": "code",
   "execution_count": 36,
   "metadata": {
    "scrolled": true
   },
   "outputs": [],
   "source": [
    "from urllib.request import urlopen\n",
    "from bs4 import BeautifulSoup\n",
    "import pandas as pd\n",
    "url = \"http://www.chicagomag.com/Chicago-Magazine/November-2012/Best-Sandwiches-Chicago/\"\n",
    "html = urlopen(url)\n",
    "soup = BeautifulSoup(html, 'html.parser')\n",
    "#soup.prettify()\n",
    "#list(soup.html)\n",
    "#links = soup.find_all('div', class_=\"sammyListing\")\n",
    "#links = soup.find_all('div', 'sammyListing')[0]\n",
    "#links\n",
    "#links.a.next_sibling\n",
    "#for item in links:\n",
    "#    print(item.get_text())\n"
   ]
  },
  {
   "cell_type": "code",
   "execution_count": 49,
   "metadata": {},
   "outputs": [
    {
     "data": {
      "text/plain": [
       "['Old Oak Tap',\n",
       " 'Au Cheval',\n",
       " 'Xoco',\n",
       " 'Al’s Deli',\n",
       " 'Publican Quality Meats',\n",
       " 'Hendrickx Belgian Bread Crafter',\n",
       " 'Acadia',\n",
       " 'Birchwood Kitchen',\n",
       " 'Cemitas Puebla',\n",
       " 'Nana',\n",
       " 'Lula Cafe',\n",
       " 'Ricobene’s',\n",
       " 'Frog n Snail',\n",
       " 'Crosby’s Kitchen',\n",
       " 'Longman & Eagle',\n",
       " 'Bari',\n",
       " 'Manny’s',\n",
       " 'Eggy’s',\n",
       " 'Old Jerusalem',\n",
       " 'Mindy’s HotChocolate',\n",
       " 'Olga’s Delicatessen',\n",
       " 'Dawali Mediterranean Kitchen',\n",
       " 'Big Jones',\n",
       " 'La Pane',\n",
       " 'Pastoral',\n",
       " 'Max’s Deli',\n",
       " 'Lucky’s Sandwich Co.',\n",
       " 'City Provisions',\n",
       " 'Papa’s Cache Sabroso',\n",
       " 'Bavette’s Bar & Boeuf',\n",
       " 'Hannah’s Bretzel',\n",
       " 'La Fournette',\n",
       " 'Paramount Room',\n",
       " 'Melt Sandwich Shoppe',\n",
       " 'Floriole Cafe & Bakery',\n",
       " 'First Slice Pie Café',\n",
       " 'Troquet',\n",
       " 'Grahamwich',\n",
       " 'Saigon Sisters',\n",
       " 'Rosalia’s Deli',\n",
       " 'Z&H MarketCafe',\n",
       " 'Market House on the Square',\n",
       " 'Elaine’s Coffee Call',\n",
       " 'Marion Street Cheese Market',\n",
       " 'Cafecito',\n",
       " 'Chickpea',\n",
       " 'The Goddess and Grocer',\n",
       " 'Zenwich',\n",
       " 'Toni Patisserie',\n",
       " 'Phoebe’s Bakery']"
      ]
     },
     "execution_count": 49,
     "metadata": {},
     "output_type": "execute_result"
    }
   ],
   "source": [
    "from urllib.request import urlopen\n",
    "from bs4 import BeautifulSoup\n",
    "import pandas as pd\n",
    "import re\n",
    "\n",
    "url = \"http://www.chicagomag.com/Chicago-Magazine/November-2012/Best-Sandwiches-Chicago/\"\n",
    "html = urlopen(url)\n",
    "soup = BeautifulSoup(html, 'html.parser')\n",
    "\n",
    "#soup.find('a')['href']\n",
    "#temp = soup.find(class_=\"sammyListing\").get_text()\n",
    "#re.split(\"\\n|\\r\\n\", temp)[0]\n",
    "#re.split(\"\\n|\\r\\n\", temp)[1]\n",
    "\n",
    "rank = []\n",
    "main_menu = []\n",
    "cafe_name = []\n",
    "url_add = []\n",
    "\n",
    "from urllib.parse import urljoin\n",
    "\n",
    "list_soup = soup.find_all(\"div\", \"sammy\")\n",
    "for item in list_soup:\n",
    "    rank.append(item.find(class_=\"sammyRank\").get_text())\n",
    "    temp = item.find(class_=\"sammyListing\").get_text()\n",
    "\n",
    "    main_menu.append(re.split(\"\\n|\\r\\n\", temp)[0])\n",
    "    cafe_name.append(re.split(\"\\n|\\r\\n\", temp)[1])\n",
    "\n",
    "#rank    \n",
    "#main_menu\n",
    "#cafe_name\n",
    "\n",
    "data = {'Rank' : rank, 'Menu' : main_menu, 'Cafe' : c}\n",
    "\n",
    "    \n",
    "\n",
    "\n"
   ]
  },
  {
   "cell_type": "code",
   "execution_count": null,
   "metadata": {},
   "outputs": [],
   "source": []
  },
  {
   "cell_type": "code",
   "execution_count": null,
   "metadata": {},
   "outputs": [],
   "source": []
  },
  {
   "cell_type": "code",
   "execution_count": null,
   "metadata": {},
   "outputs": [],
   "source": []
  },
  {
   "cell_type": "code",
   "execution_count": null,
   "metadata": {},
   "outputs": [],
   "source": []
  },
  {
   "cell_type": "code",
   "execution_count": null,
   "metadata": {},
   "outputs": [],
   "source": []
  }
 ],
 "metadata": {
  "kernelspec": {
   "display_name": "Python 3",
   "language": "python",
   "name": "python3"
  },
  "language_info": {
   "codemirror_mode": {
    "name": "ipython",
    "version": 3
   },
   "file_extension": ".py",
   "mimetype": "text/x-python",
   "name": "python",
   "nbconvert_exporter": "python",
   "pygments_lexer": "ipython3",
   "version": "3.6.4"
  }
 },
 "nbformat": 4,
 "nbformat_minor": 2
}
