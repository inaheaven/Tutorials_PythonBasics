{
 "cells": [
  {
   "cell_type": "code",
   "execution_count": 26,
   "metadata": {},
   "outputs": [
    {
     "data": {
      "text/plain": [
       "['가평군',\n",
       " '고양시',\n",
       " '고양시덕양구',\n",
       " '고양시일산동구',\n",
       " '고양시일산서구',\n",
       " '과천시',\n",
       " '광명시',\n",
       " '광주시',\n",
       " '구리시',\n",
       " '군포시',\n",
       " '김포시',\n",
       " '남양주시',\n",
       " '동두천시',\n",
       " '부천시',\n",
       " '성남시',\n",
       " '성남시분당구',\n",
       " '성남시수정구',\n",
       " '성남시중원구',\n",
       " '수원시',\n",
       " '수원시권선구',\n",
       " '수원시영통구',\n",
       " '수원시장안구',\n",
       " '수원시팔달구',\n",
       " '시흥시',\n",
       " '안산시',\n",
       " '안산시단원구',\n",
       " '안산시상록구',\n",
       " '안성시',\n",
       " '안양시',\n",
       " '안양시동안구',\n",
       " '안양시만안구',\n",
       " '양주시',\n",
       " '양평군',\n",
       " '여주시',\n",
       " '연천군',\n",
       " '오산시',\n",
       " '용인시',\n",
       " '용인시기흥구',\n",
       " '용인시수지구',\n",
       " '용인시처인구',\n",
       " '의왕시',\n",
       " '의정부시',\n",
       " '이천시',\n",
       " '파주시',\n",
       " '평택시',\n",
       " '포천시',\n",
       " '하남시',\n",
       " '화성시']"
      ]
     },
     "execution_count": 26,
     "metadata": {},
     "output_type": "execute_result"
    }
   ],
   "source": [
    "from selenium import webdriver\n",
    "driver = webdriver.Chrome(\"./driver/chromedriver\")\n",
    "driver.get(\"http://www.opinet.co.kr/searRgSelect.do\")\n",
    "gu_list_raw = driver.find_element_by_xpath(\"\"\"//*[@id=\"SIGUNGU_NM0\"]\"\"\")\n",
    "gu_list = gu_list_raw.find_elements_by_tag_name(\"option\")\n",
    "gu_list\n",
    "gu_names = [option.get_attribute('value') for option in gu_list]\n",
    "gu_names.remove('')\n",
    "gu_names"
   ]
  },
  {
   "cell_type": "code",
   "execution_count": 20,
   "metadata": {
    "scrolled": true
   },
   "outputs": [
    {
     "data": {
      "text/plain": [
       "[<selenium.webdriver.remote.webelement.WebElement (session=\"f83942b94068fc9e796f9729e484627d\", element=\"0.03341798890321446-4\")>,\n",
       " <selenium.webdriver.remote.webelement.WebElement (session=\"f83942b94068fc9e796f9729e484627d\", element=\"0.03341798890321446-5\")>,\n",
       " <selenium.webdriver.remote.webelement.WebElement (session=\"f83942b94068fc9e796f9729e484627d\", element=\"0.03341798890321446-6\")>,\n",
       " <selenium.webdriver.remote.webelement.WebElement (session=\"f83942b94068fc9e796f9729e484627d\", element=\"0.03341798890321446-7\")>,\n",
       " <selenium.webdriver.remote.webelement.WebElement (session=\"f83942b94068fc9e796f9729e484627d\", element=\"0.03341798890321446-8\")>,\n",
       " <selenium.webdriver.remote.webelement.WebElement (session=\"f83942b94068fc9e796f9729e484627d\", element=\"0.03341798890321446-9\")>,\n",
       " <selenium.webdriver.remote.webelement.WebElement (session=\"f83942b94068fc9e796f9729e484627d\", element=\"0.03341798890321446-10\")>,\n",
       " <selenium.webdriver.remote.webelement.WebElement (session=\"f83942b94068fc9e796f9729e484627d\", element=\"0.03341798890321446-11\")>,\n",
       " <selenium.webdriver.remote.webelement.WebElement (session=\"f83942b94068fc9e796f9729e484627d\", element=\"0.03341798890321446-12\")>,\n",
       " <selenium.webdriver.remote.webelement.WebElement (session=\"f83942b94068fc9e796f9729e484627d\", element=\"0.03341798890321446-13\")>,\n",
       " <selenium.webdriver.remote.webelement.WebElement (session=\"f83942b94068fc9e796f9729e484627d\", element=\"0.03341798890321446-14\")>,\n",
       " <selenium.webdriver.remote.webelement.WebElement (session=\"f83942b94068fc9e796f9729e484627d\", element=\"0.03341798890321446-15\")>,\n",
       " <selenium.webdriver.remote.webelement.WebElement (session=\"f83942b94068fc9e796f9729e484627d\", element=\"0.03341798890321446-16\")>,\n",
       " <selenium.webdriver.remote.webelement.WebElement (session=\"f83942b94068fc9e796f9729e484627d\", element=\"0.03341798890321446-17\")>,\n",
       " <selenium.webdriver.remote.webelement.WebElement (session=\"f83942b94068fc9e796f9729e484627d\", element=\"0.03341798890321446-18\")>,\n",
       " <selenium.webdriver.remote.webelement.WebElement (session=\"f83942b94068fc9e796f9729e484627d\", element=\"0.03341798890321446-19\")>,\n",
       " <selenium.webdriver.remote.webelement.WebElement (session=\"f83942b94068fc9e796f9729e484627d\", element=\"0.03341798890321446-20\")>,\n",
       " <selenium.webdriver.remote.webelement.WebElement (session=\"f83942b94068fc9e796f9729e484627d\", element=\"0.03341798890321446-21\")>,\n",
       " <selenium.webdriver.remote.webelement.WebElement (session=\"f83942b94068fc9e796f9729e484627d\", element=\"0.03341798890321446-22\")>,\n",
       " <selenium.webdriver.remote.webelement.WebElement (session=\"f83942b94068fc9e796f9729e484627d\", element=\"0.03341798890321446-23\")>,\n",
       " <selenium.webdriver.remote.webelement.WebElement (session=\"f83942b94068fc9e796f9729e484627d\", element=\"0.03341798890321446-24\")>,\n",
       " <selenium.webdriver.remote.webelement.WebElement (session=\"f83942b94068fc9e796f9729e484627d\", element=\"0.03341798890321446-25\")>,\n",
       " <selenium.webdriver.remote.webelement.WebElement (session=\"f83942b94068fc9e796f9729e484627d\", element=\"0.03341798890321446-26\")>,\n",
       " <selenium.webdriver.remote.webelement.WebElement (session=\"f83942b94068fc9e796f9729e484627d\", element=\"0.03341798890321446-27\")>,\n",
       " <selenium.webdriver.remote.webelement.WebElement (session=\"f83942b94068fc9e796f9729e484627d\", element=\"0.03341798890321446-28\")>,\n",
       " <selenium.webdriver.remote.webelement.WebElement (session=\"f83942b94068fc9e796f9729e484627d\", element=\"0.03341798890321446-29\")>,\n",
       " <selenium.webdriver.remote.webelement.WebElement (session=\"f83942b94068fc9e796f9729e484627d\", element=\"0.03341798890321446-30\")>,\n",
       " <selenium.webdriver.remote.webelement.WebElement (session=\"f83942b94068fc9e796f9729e484627d\", element=\"0.03341798890321446-31\")>,\n",
       " <selenium.webdriver.remote.webelement.WebElement (session=\"f83942b94068fc9e796f9729e484627d\", element=\"0.03341798890321446-32\")>,\n",
       " <selenium.webdriver.remote.webelement.WebElement (session=\"f83942b94068fc9e796f9729e484627d\", element=\"0.03341798890321446-33\")>,\n",
       " <selenium.webdriver.remote.webelement.WebElement (session=\"f83942b94068fc9e796f9729e484627d\", element=\"0.03341798890321446-34\")>,\n",
       " <selenium.webdriver.remote.webelement.WebElement (session=\"f83942b94068fc9e796f9729e484627d\", element=\"0.03341798890321446-35\")>,\n",
       " <selenium.webdriver.remote.webelement.WebElement (session=\"f83942b94068fc9e796f9729e484627d\", element=\"0.03341798890321446-36\")>,\n",
       " <selenium.webdriver.remote.webelement.WebElement (session=\"f83942b94068fc9e796f9729e484627d\", element=\"0.03341798890321446-37\")>,\n",
       " <selenium.webdriver.remote.webelement.WebElement (session=\"f83942b94068fc9e796f9729e484627d\", element=\"0.03341798890321446-38\")>,\n",
       " <selenium.webdriver.remote.webelement.WebElement (session=\"f83942b94068fc9e796f9729e484627d\", element=\"0.03341798890321446-39\")>,\n",
       " <selenium.webdriver.remote.webelement.WebElement (session=\"f83942b94068fc9e796f9729e484627d\", element=\"0.03341798890321446-40\")>,\n",
       " <selenium.webdriver.remote.webelement.WebElement (session=\"f83942b94068fc9e796f9729e484627d\", element=\"0.03341798890321446-41\")>,\n",
       " <selenium.webdriver.remote.webelement.WebElement (session=\"f83942b94068fc9e796f9729e484627d\", element=\"0.03341798890321446-42\")>,\n",
       " <selenium.webdriver.remote.webelement.WebElement (session=\"f83942b94068fc9e796f9729e484627d\", element=\"0.03341798890321446-43\")>,\n",
       " <selenium.webdriver.remote.webelement.WebElement (session=\"f83942b94068fc9e796f9729e484627d\", element=\"0.03341798890321446-44\")>,\n",
       " <selenium.webdriver.remote.webelement.WebElement (session=\"f83942b94068fc9e796f9729e484627d\", element=\"0.03341798890321446-45\")>,\n",
       " <selenium.webdriver.remote.webelement.WebElement (session=\"f83942b94068fc9e796f9729e484627d\", element=\"0.03341798890321446-46\")>,\n",
       " <selenium.webdriver.remote.webelement.WebElement (session=\"f83942b94068fc9e796f9729e484627d\", element=\"0.03341798890321446-47\")>,\n",
       " <selenium.webdriver.remote.webelement.WebElement (session=\"f83942b94068fc9e796f9729e484627d\", element=\"0.03341798890321446-48\")>,\n",
       " <selenium.webdriver.remote.webelement.WebElement (session=\"f83942b94068fc9e796f9729e484627d\", element=\"0.03341798890321446-49\")>,\n",
       " <selenium.webdriver.remote.webelement.WebElement (session=\"f83942b94068fc9e796f9729e484627d\", element=\"0.03341798890321446-50\")>,\n",
       " <selenium.webdriver.remote.webelement.WebElement (session=\"f83942b94068fc9e796f9729e484627d\", element=\"0.03341798890321446-51\")>,\n",
       " <selenium.webdriver.remote.webelement.WebElement (session=\"f83942b94068fc9e796f9729e484627d\", element=\"0.03341798890321446-52\")>]"
      ]
     },
     "execution_count": 20,
     "metadata": {},
     "output_type": "execute_result"
    }
   ],
   "source": []
  },
  {
   "cell_type": "code",
   "execution_count": 32,
   "metadata": {},
   "outputs": [],
   "source": [
    "element = driver.find_element_by_id(\"SIGUNGU_NM0\")\n",
    "element.send_keys(gu_names[0\n",
    "                          ])\n",
    "xpath = \"\"\"//*[@id=\"searRgSelect\"]\"\"\"\n",
    "element_sel_gu = driver.find_element_by_xpath(xpath).click()"
   ]
  },
  {
   "cell_type": "code",
   "execution_count": 33,
   "metadata": {},
   "outputs": [],
   "source": [
    "xpath = \"\"\"//*[@id=\"glopopd_excel\"]\"\"\"\n",
    "element_get_excel = driver.find_element_by_xpath(xpath).click()"
   ]
  },
  {
   "cell_type": "code",
   "execution_count": 38,
   "metadata": {},
   "outputs": [
    {
     "data": {
      "application/vnd.jupyter.widget-view+json": {
       "model_id": "6ea45614d7514c098e0cab2c2aab0644",
       "version_major": 2,
       "version_minor": 0
      },
      "text/html": [
       "<p>Failed to display Jupyter Widget of type <code>HBox</code>.</p>\n",
       "<p>\n",
       "  If you're reading this message in the Jupyter Notebook or JupyterLab Notebook, it may mean\n",
       "  that the widgets JavaScript is still loading. If this message persists, it\n",
       "  likely means that the widgets JavaScript library is either not installed or\n",
       "  not enabled. See the <a href=\"https://ipywidgets.readthedocs.io/en/stable/user_install.html\">Jupyter\n",
       "  Widgets Documentation</a> for setup instructions.\n",
       "</p>\n",
       "<p>\n",
       "  If you're reading this message in another frontend (for example, a static\n",
       "  rendering on GitHub or <a href=\"https://nbviewer.jupyter.org/\">NBViewer</a>),\n",
       "  it may mean that your frontend doesn't currently support widgets.\n",
       "</p>\n"
      ],
      "text/plain": [
       "HBox(children=(IntProgress(value=0, max=48), HTML(value='')))"
      ]
     },
     "metadata": {},
     "output_type": "display_data"
    },
    {
     "name": "stdout",
     "output_type": "stream",
     "text": [
      "\n"
     ]
    },
    {
     "ename": "KeyboardInterrupt",
     "evalue": "",
     "output_type": "error",
     "traceback": [
      "\u001b[1;31m---------------------------------------------------------------------------\u001b[0m",
      "\u001b[1;31mKeyboardInterrupt\u001b[0m                         Traceback (most recent call last)",
      "\u001b[1;32m<ipython-input-38-d0da00d558a5>\u001b[0m in \u001b[0;36m<module>\u001b[1;34m()\u001b[0m\n\u001b[0;32m      8\u001b[0m     \u001b[0mxpath\u001b[0m \u001b[1;33m=\u001b[0m \u001b[1;34m\"\"\"//*[@id=\"searRgSelect\"]\"\"\"\u001b[0m\u001b[1;33m\u001b[0m\u001b[0m\n\u001b[0;32m      9\u001b[0m     \u001b[0melement_sel_gu\u001b[0m \u001b[1;33m=\u001b[0m \u001b[0mdriver\u001b[0m\u001b[1;33m.\u001b[0m\u001b[0mfind_element_by_xpath\u001b[0m\u001b[1;33m(\u001b[0m\u001b[0mxpath\u001b[0m\u001b[1;33m)\u001b[0m\u001b[1;33m.\u001b[0m\u001b[0mclick\u001b[0m\u001b[1;33m(\u001b[0m\u001b[1;33m)\u001b[0m\u001b[1;33m\u001b[0m\u001b[0m\n\u001b[1;32m---> 10\u001b[1;33m     \u001b[0mtime\u001b[0m\u001b[1;33m.\u001b[0m\u001b[0msleep\u001b[0m\u001b[1;33m(\u001b[0m\u001b[1;36m1\u001b[0m\u001b[1;33m)\u001b[0m\u001b[1;33m\u001b[0m\u001b[0m\n\u001b[0m\u001b[0;32m     11\u001b[0m \u001b[1;33m\u001b[0m\u001b[0m\n\u001b[0;32m     12\u001b[0m     \u001b[0mxpath\u001b[0m \u001b[1;33m=\u001b[0m \u001b[1;34m\"\"\"//*[@id=\"glopopd_excel\"]\"\"\"\u001b[0m\u001b[1;33m\u001b[0m\u001b[0m\n",
      "\u001b[1;31mKeyboardInterrupt\u001b[0m: "
     ]
    }
   ],
   "source": [
    "import time\n",
    "from tqdm import tqdm_notebook\n",
    "for gu in tqdm_notebook(gu_names):\n",
    "    element = driver.find_element_by_id(\"SIGUNGU_NM0\")\n",
    "    element.send_keys(gu)\n",
    "    \n",
    "    time.sleep(2)    \n",
    "    xpath = \"\"\"//*[@id=\"searRgSelect\"]\"\"\"\n",
    "    element_sel_gu = driver.find_element_by_xpath(xpath).click()\n",
    "    time.sleep(1)\n",
    "    \n",
    "    xpath = \"\"\"//*[@id=\"glopopd_excel\"]\"\"\"\n",
    "    element_get_excel = driver.find_element_by_xpath(xpath).click()\n",
    "    time.sleep(1)"
   ]
  },
  {
   "cell_type": "code",
   "execution_count": 50,
   "metadata": {
    "scrolled": false
   },
   "outputs": [
    {
     "data": {
      "text/html": [
       "<div>\n",
       "<style scoped>\n",
       "    .dataframe tbody tr th:only-of-type {\n",
       "        vertical-align: middle;\n",
       "    }\n",
       "\n",
       "    .dataframe tbody tr th {\n",
       "        vertical-align: top;\n",
       "    }\n",
       "\n",
       "    .dataframe thead th {\n",
       "        text-align: right;\n",
       "    }\n",
       "</style>\n",
       "<table border=\"1\" class=\"dataframe\">\n",
       "  <thead>\n",
       "    <tr style=\"text-align: right;\">\n",
       "      <th></th>\n",
       "      <th>지역</th>\n",
       "      <th>상호</th>\n",
       "      <th>주소</th>\n",
       "      <th>상표</th>\n",
       "      <th>전화번호</th>\n",
       "      <th>셀프여부</th>\n",
       "      <th>고급휘발유</th>\n",
       "      <th>휘발유</th>\n",
       "      <th>경유</th>\n",
       "      <th>실내등유</th>\n",
       "    </tr>\n",
       "  </thead>\n",
       "  <tbody>\n",
       "    <tr>\n",
       "      <th>0</th>\n",
       "      <td>서울특별시</td>\n",
       "      <td>오렌지주유소</td>\n",
       "      <td>서울 강동구 성안로 102 (성내동)</td>\n",
       "      <td>SK에너지</td>\n",
       "      <td>02-484-6165</td>\n",
       "      <td>N</td>\n",
       "      <td>-</td>\n",
       "      <td>1554</td>\n",
       "      <td>1354</td>\n",
       "      <td>997</td>\n",
       "    </tr>\n",
       "    <tr>\n",
       "      <th>1</th>\n",
       "      <td>서울특별시</td>\n",
       "      <td>구천면주유소</td>\n",
       "      <td>서울 강동구 구천면로 357 (암사동)</td>\n",
       "      <td>현대오일뱅크</td>\n",
       "      <td>02-441-0536</td>\n",
       "      <td>N</td>\n",
       "      <td>-</td>\n",
       "      <td>1556</td>\n",
       "      <td>1355</td>\n",
       "      <td>-</td>\n",
       "    </tr>\n",
       "    <tr>\n",
       "      <th>2</th>\n",
       "      <td>서울특별시</td>\n",
       "      <td>GS칼텍스㈜직영 신월주유소</td>\n",
       "      <td>서울 강동구 양재대로 1323 (성내동)</td>\n",
       "      <td>GS칼텍스</td>\n",
       "      <td>02-475-2600</td>\n",
       "      <td>N</td>\n",
       "      <td>1855</td>\n",
       "      <td>1559</td>\n",
       "      <td>1349</td>\n",
       "      <td>1000</td>\n",
       "    </tr>\n",
       "    <tr>\n",
       "      <th>3</th>\n",
       "      <td>서울특별시</td>\n",
       "      <td>광성주유소</td>\n",
       "      <td>서울 강동구 올림픽로 673 (천호동)</td>\n",
       "      <td>S-OIL</td>\n",
       "      <td>02-470-5133</td>\n",
       "      <td>N</td>\n",
       "      <td>-</td>\n",
       "      <td>1578</td>\n",
       "      <td>1388</td>\n",
       "      <td>1100</td>\n",
       "    </tr>\n",
       "    <tr>\n",
       "      <th>4</th>\n",
       "      <td>서울특별시</td>\n",
       "      <td>(주)소모에너지엔테크놀러지성내주유소</td>\n",
       "      <td>서울 강동구 올림픽로 578 (성내동)</td>\n",
       "      <td>GS칼텍스</td>\n",
       "      <td>02-479-3838</td>\n",
       "      <td>Y</td>\n",
       "      <td>-</td>\n",
       "      <td>1588</td>\n",
       "      <td>1388</td>\n",
       "      <td>-</td>\n",
       "    </tr>\n",
       "  </tbody>\n",
       "</table>\n",
       "</div>"
      ],
      "text/plain": [
       "      지역                   상호                      주소      상표         전화번호  \\\n",
       "0  서울특별시               오렌지주유소    서울 강동구 성안로 102 (성내동)   SK에너지  02-484-6165   \n",
       "1  서울특별시               구천면주유소   서울 강동구 구천면로 357 (암사동)  현대오일뱅크  02-441-0536   \n",
       "2  서울특별시       GS칼텍스㈜직영 신월주유소  서울 강동구 양재대로 1323 (성내동)   GS칼텍스  02-475-2600   \n",
       "3  서울특별시                광성주유소   서울 강동구 올림픽로 673 (천호동)   S-OIL  02-470-5133   \n",
       "4  서울특별시  (주)소모에너지엔테크놀러지성내주유소   서울 강동구 올림픽로 578 (성내동)   GS칼텍스  02-479-3838   \n",
       "\n",
       "  셀프여부 고급휘발유   휘발유    경유  실내등유  \n",
       "0    N     -  1554  1354   997  \n",
       "1    N     -  1556  1355     -  \n",
       "2    N  1855  1559  1349  1000  \n",
       "3    N     -  1578  1388  1100  \n",
       "4    Y     -  1588  1388     -  "
      ]
     },
     "execution_count": 50,
     "metadata": {},
     "output_type": "execute_result"
    }
   ],
   "source": [
    "import pandas as pd\n",
    "from glob import glob\n",
    "stations_files = glob(\"./data/지역_위치별*.xls\") \n",
    "stations_files\n",
    "\n",
    "tmp_raw = []\n",
    "for file_name in stations_files:\n",
    "    tmp = pd.read_excel(file_name, header=2)\n",
    "    tmp_raw.append(tmp)\n",
    "    \n",
    "station_raw = pd.concat(tmp_raw)\n",
    "#station_raw.info()\n",
    "station_raw.head()\n",
    "# DataFrame -> \n",
    "# 상호 -> Oil_store\n",
    "# 주소 -> 주소\n",
    "# 휘발유 -> 가격\n",
    "# 셀프여부 -> 셀프\n",
    "# 상표 -> 상표\n",
    "# 5개 컬럼만 DataFrame 정의함.\n",
    "\n",
    "stations = pd.DataFrame(\"Oil_store\":station_raw[\"상호\"],\n",
    "                       \"Oil_store\":station_raw[\"주소\"],\n",
    "                       \"Oil_store\":station_raw[\"휘발류\"],\n",
    "                       \"Oil_store\":station_raw[\"셀프여부\"],\n",
    "                       \"Oil_store\":station_raw[\"상표\"])\n"
   ]
  },
  {
   "cell_type": "code",
   "execution_count": null,
   "metadata": {},
   "outputs": [],
   "source": []
  },
  {
   "cell_type": "code",
   "execution_count": null,
   "metadata": {},
   "outputs": [],
   "source": []
  },
  {
   "cell_type": "code",
   "execution_count": null,
   "metadata": {},
   "outputs": [],
   "source": []
  },
  {
   "cell_type": "code",
   "execution_count": null,
   "metadata": {},
   "outputs": [],
   "source": []
  },
  {
   "cell_type": "code",
   "execution_count": null,
   "metadata": {},
   "outputs": [],
   "source": []
  },
  {
   "cell_type": "code",
   "execution_count": null,
   "metadata": {},
   "outputs": [],
   "source": []
  }
 ],
 "metadata": {
  "kernelspec": {
   "display_name": "Python 3",
   "language": "python",
   "name": "python3"
  },
  "language_info": {
   "codemirror_mode": {
    "name": "ipython",
    "version": 3
   },
   "file_extension": ".py",
   "mimetype": "text/x-python",
   "name": "python",
   "nbconvert_exporter": "python",
   "pygments_lexer": "ipython3",
   "version": "3.6.4"
  }
 },
 "nbformat": 4,
 "nbformat_minor": 2
}
