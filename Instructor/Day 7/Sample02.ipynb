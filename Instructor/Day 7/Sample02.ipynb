{
 "cells": [
  {
   "cell_type": "code",
   "execution_count": 26,
   "metadata": {},
   "outputs": [
    {
     "data": {
      "text/plain": [
       "['가평군',\n",
       " '고양시',\n",
       " '고양시덕양구',\n",
       " '고양시일산동구',\n",
       " '고양시일산서구',\n",
       " '과천시',\n",
       " '광명시',\n",
       " '광주시',\n",
       " '구리시',\n",
       " '군포시',\n",
       " '김포시',\n",
       " '남양주시',\n",
       " '동두천시',\n",
       " '부천시',\n",
       " '성남시',\n",
       " '성남시분당구',\n",
       " '성남시수정구',\n",
       " '성남시중원구',\n",
       " '수원시',\n",
       " '수원시권선구',\n",
       " '수원시영통구',\n",
       " '수원시장안구',\n",
       " '수원시팔달구',\n",
       " '시흥시',\n",
       " '안산시',\n",
       " '안산시단원구',\n",
       " '안산시상록구',\n",
       " '안성시',\n",
       " '안양시',\n",
       " '안양시동안구',\n",
       " '안양시만안구',\n",
       " '양주시',\n",
       " '양평군',\n",
       " '여주시',\n",
       " '연천군',\n",
       " '오산시',\n",
       " '용인시',\n",
       " '용인시기흥구',\n",
       " '용인시수지구',\n",
       " '용인시처인구',\n",
       " '의왕시',\n",
       " '의정부시',\n",
       " '이천시',\n",
       " '파주시',\n",
       " '평택시',\n",
       " '포천시',\n",
       " '하남시',\n",
       " '화성시']"
      ]
     },
     "execution_count": 26,
     "metadata": {},
     "output_type": "execute_result"
    }
   ],
   "source": [
    "from selenium import webdriver\n",
    "driver = webdriver.Chrome(\"./driver/chromedriver\")\n",
    "driver.get(\"http://www.opinet.co.kr/searRgSelect.do\")\n",
    "gu_list_raw = driver.find_element_by_xpath(\"\"\"//*[@id=\"SIGUNGU_NM0\"]\"\"\")\n",
    "gu_list = gu_list_raw.find_elements_by_tag_name(\"option\")\n",
    "gu_list\n",
    "gu_names = [option.get_attribute('value') for option in gu_list]\n",
    "gu_names.remove('')\n",
    "gu_names"
   ]
  },
  {
   "cell_type": "code",
   "execution_count": 20,
   "metadata": {
    "scrolled": true
   },
   "outputs": [
    {
     "data": {
      "text/plain": [
       "[<selenium.webdriver.remote.webelement.WebElement (session=\"f83942b94068fc9e796f9729e484627d\", element=\"0.03341798890321446-4\")>,\n",
       " <selenium.webdriver.remote.webelement.WebElement (session=\"f83942b94068fc9e796f9729e484627d\", element=\"0.03341798890321446-5\")>,\n",
       " <selenium.webdriver.remote.webelement.WebElement (session=\"f83942b94068fc9e796f9729e484627d\", element=\"0.03341798890321446-6\")>,\n",
       " <selenium.webdriver.remote.webelement.WebElement (session=\"f83942b94068fc9e796f9729e484627d\", element=\"0.03341798890321446-7\")>,\n",
       " <selenium.webdriver.remote.webelement.WebElement (session=\"f83942b94068fc9e796f9729e484627d\", element=\"0.03341798890321446-8\")>,\n",
       " <selenium.webdriver.remote.webelement.WebElement (session=\"f83942b94068fc9e796f9729e484627d\", element=\"0.03341798890321446-9\")>,\n",
       " <selenium.webdriver.remote.webelement.WebElement (session=\"f83942b94068fc9e796f9729e484627d\", element=\"0.03341798890321446-10\")>,\n",
       " <selenium.webdriver.remote.webelement.WebElement (session=\"f83942b94068fc9e796f9729e484627d\", element=\"0.03341798890321446-11\")>,\n",
       " <selenium.webdriver.remote.webelement.WebElement (session=\"f83942b94068fc9e796f9729e484627d\", element=\"0.03341798890321446-12\")>,\n",
       " <selenium.webdriver.remote.webelement.WebElement (session=\"f83942b94068fc9e796f9729e484627d\", element=\"0.03341798890321446-13\")>,\n",
       " <selenium.webdriver.remote.webelement.WebElement (session=\"f83942b94068fc9e796f9729e484627d\", element=\"0.03341798890321446-14\")>,\n",
       " <selenium.webdriver.remote.webelement.WebElement (session=\"f83942b94068fc9e796f9729e484627d\", element=\"0.03341798890321446-15\")>,\n",
       " <selenium.webdriver.remote.webelement.WebElement (session=\"f83942b94068fc9e796f9729e484627d\", element=\"0.03341798890321446-16\")>,\n",
       " <selenium.webdriver.remote.webelement.WebElement (session=\"f83942b94068fc9e796f9729e484627d\", element=\"0.03341798890321446-17\")>,\n",
       " <selenium.webdriver.remote.webelement.WebElement (session=\"f83942b94068fc9e796f9729e484627d\", element=\"0.03341798890321446-18\")>,\n",
       " <selenium.webdriver.remote.webelement.WebElement (session=\"f83942b94068fc9e796f9729e484627d\", element=\"0.03341798890321446-19\")>,\n",
       " <selenium.webdriver.remote.webelement.WebElement (session=\"f83942b94068fc9e796f9729e484627d\", element=\"0.03341798890321446-20\")>,\n",
       " <selenium.webdriver.remote.webelement.WebElement (session=\"f83942b94068fc9e796f9729e484627d\", element=\"0.03341798890321446-21\")>,\n",
       " <selenium.webdriver.remote.webelement.WebElement (session=\"f83942b94068fc9e796f9729e484627d\", element=\"0.03341798890321446-22\")>,\n",
       " <selenium.webdriver.remote.webelement.WebElement (session=\"f83942b94068fc9e796f9729e484627d\", element=\"0.03341798890321446-23\")>,\n",
       " <selenium.webdriver.remote.webelement.WebElement (session=\"f83942b94068fc9e796f9729e484627d\", element=\"0.03341798890321446-24\")>,\n",
       " <selenium.webdriver.remote.webelement.WebElement (session=\"f83942b94068fc9e796f9729e484627d\", element=\"0.03341798890321446-25\")>,\n",
       " <selenium.webdriver.remote.webelement.WebElement (session=\"f83942b94068fc9e796f9729e484627d\", element=\"0.03341798890321446-26\")>,\n",
       " <selenium.webdriver.remote.webelement.WebElement (session=\"f83942b94068fc9e796f9729e484627d\", element=\"0.03341798890321446-27\")>,\n",
       " <selenium.webdriver.remote.webelement.WebElement (session=\"f83942b94068fc9e796f9729e484627d\", element=\"0.03341798890321446-28\")>,\n",
       " <selenium.webdriver.remote.webelement.WebElement (session=\"f83942b94068fc9e796f9729e484627d\", element=\"0.03341798890321446-29\")>,\n",
       " <selenium.webdriver.remote.webelement.WebElement (session=\"f83942b94068fc9e796f9729e484627d\", element=\"0.03341798890321446-30\")>,\n",
       " <selenium.webdriver.remote.webelement.WebElement (session=\"f83942b94068fc9e796f9729e484627d\", element=\"0.03341798890321446-31\")>,\n",
       " <selenium.webdriver.remote.webelement.WebElement (session=\"f83942b94068fc9e796f9729e484627d\", element=\"0.03341798890321446-32\")>,\n",
       " <selenium.webdriver.remote.webelement.WebElement (session=\"f83942b94068fc9e796f9729e484627d\", element=\"0.03341798890321446-33\")>,\n",
       " <selenium.webdriver.remote.webelement.WebElement (session=\"f83942b94068fc9e796f9729e484627d\", element=\"0.03341798890321446-34\")>,\n",
       " <selenium.webdriver.remote.webelement.WebElement (session=\"f83942b94068fc9e796f9729e484627d\", element=\"0.03341798890321446-35\")>,\n",
       " <selenium.webdriver.remote.webelement.WebElement (session=\"f83942b94068fc9e796f9729e484627d\", element=\"0.03341798890321446-36\")>,\n",
       " <selenium.webdriver.remote.webelement.WebElement (session=\"f83942b94068fc9e796f9729e484627d\", element=\"0.03341798890321446-37\")>,\n",
       " <selenium.webdriver.remote.webelement.WebElement (session=\"f83942b94068fc9e796f9729e484627d\", element=\"0.03341798890321446-38\")>,\n",
       " <selenium.webdriver.remote.webelement.WebElement (session=\"f83942b94068fc9e796f9729e484627d\", element=\"0.03341798890321446-39\")>,\n",
       " <selenium.webdriver.remote.webelement.WebElement (session=\"f83942b94068fc9e796f9729e484627d\", element=\"0.03341798890321446-40\")>,\n",
       " <selenium.webdriver.remote.webelement.WebElement (session=\"f83942b94068fc9e796f9729e484627d\", element=\"0.03341798890321446-41\")>,\n",
       " <selenium.webdriver.remote.webelement.WebElement (session=\"f83942b94068fc9e796f9729e484627d\", element=\"0.03341798890321446-42\")>,\n",
       " <selenium.webdriver.remote.webelement.WebElement (session=\"f83942b94068fc9e796f9729e484627d\", element=\"0.03341798890321446-43\")>,\n",
       " <selenium.webdriver.remote.webelement.WebElement (session=\"f83942b94068fc9e796f9729e484627d\", element=\"0.03341798890321446-44\")>,\n",
       " <selenium.webdriver.remote.webelement.WebElement (session=\"f83942b94068fc9e796f9729e484627d\", element=\"0.03341798890321446-45\")>,\n",
       " <selenium.webdriver.remote.webelement.WebElement (session=\"f83942b94068fc9e796f9729e484627d\", element=\"0.03341798890321446-46\")>,\n",
       " <selenium.webdriver.remote.webelement.WebElement (session=\"f83942b94068fc9e796f9729e484627d\", element=\"0.03341798890321446-47\")>,\n",
       " <selenium.webdriver.remote.webelement.WebElement (session=\"f83942b94068fc9e796f9729e484627d\", element=\"0.03341798890321446-48\")>,\n",
       " <selenium.webdriver.remote.webelement.WebElement (session=\"f83942b94068fc9e796f9729e484627d\", element=\"0.03341798890321446-49\")>,\n",
       " <selenium.webdriver.remote.webelement.WebElement (session=\"f83942b94068fc9e796f9729e484627d\", element=\"0.03341798890321446-50\")>,\n",
       " <selenium.webdriver.remote.webelement.WebElement (session=\"f83942b94068fc9e796f9729e484627d\", element=\"0.03341798890321446-51\")>,\n",
       " <selenium.webdriver.remote.webelement.WebElement (session=\"f83942b94068fc9e796f9729e484627d\", element=\"0.03341798890321446-52\")>]"
      ]
     },
     "execution_count": 20,
     "metadata": {},
     "output_type": "execute_result"
    }
   ],
   "source": []
  },
  {
   "cell_type": "code",
   "execution_count": 32,
   "metadata": {},
   "outputs": [],
   "source": [
    "element = driver.find_element_by_id(\"SIGUNGU_NM0\")\n",
    "element.send_keys(gu_names[0\n",
    "                          ])\n",
    "xpath = \"\"\"//*[@id=\"searRgSelect\"]\"\"\"\n",
    "element_sel_gu = driver.find_element_by_xpath(xpath).click()"
   ]
  },
  {
   "cell_type": "code",
   "execution_count": 33,
   "metadata": {},
   "outputs": [],
   "source": [
    "xpath = \"\"\"//*[@id=\"glopopd_excel\"]\"\"\"\n",
    "element_get_excel = driver.find_element_by_xpath(xpath).click()"
   ]
  },
  {
   "cell_type": "code",
   "execution_count": null,
   "metadata": {},
   "outputs": [],
   "source": []
  },
  {
   "cell_type": "code",
   "execution_count": null,
   "metadata": {},
   "outputs": [],
   "source": []
  },
  {
   "cell_type": "code",
   "execution_count": null,
   "metadata": {},
   "outputs": [],
   "source": []
  }
 ],
 "metadata": {
  "kernelspec": {
   "display_name": "Python 3",
   "language": "python",
   "name": "python3"
  },
  "language_info": {
   "codemirror_mode": {
    "name": "ipython",
    "version": 3
   },
   "file_extension": ".py",
   "mimetype": "text/x-python",
   "name": "python",
   "nbconvert_exporter": "python",
   "pygments_lexer": "ipython3",
   "version": "3.6.4"
  }
 },
 "nbformat": 4,
 "nbformat_minor": 2
}
