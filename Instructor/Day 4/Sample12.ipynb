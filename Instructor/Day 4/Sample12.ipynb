{
 "cells": [
  {
   "cell_type": "code",
   "execution_count": 10,
   "metadata": {},
   "outputs": [
    {
     "data": {
      "text/plain": [
       "{'Kings': Int64Index([2], dtype='int64'),\n",
       " 'Riders': Int64Index([0], dtype='int64'),\n",
       " 'Tom': Int64Index([1], dtype='int64')}"
      ]
     },
     "execution_count": 10,
     "metadata": {},
     "output_type": "execute_result"
    }
   ],
   "source": [
    "import pandas as pd\n",
    "\n",
    "data = {\n",
    "    'Team' : ['Riders', 'Tom', 'Kings'],\n",
    "    'Rank' : [1, 2, 3],\n",
    "    'Year' : [2014, 2015, 2014],\n",
    "    'Points' : [20,20,20]    \n",
    "}\n",
    "df = pd.DataFrame(data)\n",
    "\n",
    "df1 =  df.groupby('Team').groups\n",
    "df1\n"
   ]
  },
  {
   "cell_type": "code",
   "execution_count": null,
   "metadata": {},
   "outputs": [],
   "source": []
  }
 ],
 "metadata": {
  "kernelspec": {
   "display_name": "Python 3",
   "language": "python",
   "name": "python3"
  },
  "language_info": {
   "codemirror_mode": {
    "name": "ipython",
    "version": 3
   },
   "file_extension": ".py",
   "mimetype": "text/x-python",
   "name": "python",
   "nbconvert_exporter": "python",
   "pygments_lexer": "ipython3",
   "version": "3.6.4"
  }
 },
 "nbformat": 4,
 "nbformat_minor": 2
}
