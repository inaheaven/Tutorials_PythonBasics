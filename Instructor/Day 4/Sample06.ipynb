{
 "cells": [
  {
   "cell_type": "code",
   "execution_count": 8,
   "metadata": {},
   "outputs": [
    {
     "name": "stdout",
     "output_type": "stream",
     "text": [
      "0   -1.307320\n",
      "1   -0.999548\n",
      "2    0.187289\n",
      "3    0.275474\n",
      "dtype: float64\n",
      "[RangeIndex(start=0, stop=4, step=1)]\n",
      "False\n",
      "1\n",
      "4\n",
      "[-1.30732006 -0.99954778  0.18728871  0.27547422]\n",
      "0   -1.307320\n",
      "1   -0.999548\n",
      "dtype: float64\n",
      "2    0.187289\n",
      "3    0.275474\n",
      "dtype: float64\n"
     ]
    }
   ],
   "source": [
    "import pandas as pd\n",
    "import numpy as np\n",
    "\n",
    "s = pd.Series(np.random.randn(4))\n",
    "print(s)\n",
    "print(s.axes)\n",
    "print(s.empty)\n",
    "print(s.ndim)\n",
    "print(s.size)\n",
    "print(s.values)\n",
    "print(s.head(2))\n",
    "print(s.tail(2))\n"
   ]
  },
  {
   "cell_type": "code",
   "execution_count": 11,
   "metadata": {},
   "outputs": [
    {
     "name": "stdout",
     "output_type": "stream",
     "text": [
      "   Age   Name  Rating\n",
      "0   24    Tom    4.21\n",
      "1   25   Jane    4.25\n",
      "2   21  Thoms    4.21\n",
      "3   20   Nick    4.11\n"
     ]
    }
   ],
   "source": [
    "data2 = {\n",
    "    'Name' : pd.Series(['Tom', 'Jane', 'Thoms', 'Nick']),\n",
    "    'Age' : pd.Series([24,25, 21, 20]),\n",
    "    'Rating' : pd.Series([4.21, 4.25, 4.21, 4.11])\n",
    "}\n",
    "df = pd.DataFrame(data2)\n",
    "print(df)"
   ]
  },
  {
   "cell_type": "code",
   "execution_count": 18,
   "metadata": {
    "scrolled": true
   },
   "outputs": [
    {
     "name": "stdout",
     "output_type": "stream",
     "text": [
      "           0     1      2     3\n",
      "Age       24    25     21    20\n",
      "Name     Tom  Jane  Thoms  Nick\n",
      "Rating  4.21  4.25   4.21  4.11\n",
      "[RangeIndex(start=0, stop=4, step=1), Index(['Age', 'Name', 'Rating'], dtype='object')]\n",
      "Age         int64\n",
      "Name       object\n",
      "Rating    float64\n",
      "dtype: object\n",
      "(4, 3)\n",
      "[[24 'Tom' 4.21]\n",
      " [25 'Jane' 4.25]\n",
      " [21 'Thoms' 4.21]\n",
      " [20 'Nick' 4.11]]\n",
      "   Age  Name  Rating\n",
      "0   24   Tom    4.21\n",
      "1   25  Jane    4.25\n",
      "   Age   Name  Rating\n",
      "2   21  Thoms    4.21\n",
      "3   20   Nick    4.11\n"
     ]
    }
   ],
   "source": [
    "print(df.T) #Transpose\n",
    "print(df.axes)\n",
    "print(df.dtypes)\n",
    "print(df.shape)\n",
    "print(df.values)\n",
    "print(df.head(2))\n",
    "print(df.tail(2))"
   ]
  },
  {
   "cell_type": "code",
   "execution_count": 26,
   "metadata": {},
   "outputs": [
    {
     "name": "stdout",
     "output_type": "stream",
     "text": [
      "Age       22.500\n",
      "Rating     4.195\n",
      "dtype: float64\n",
      "Age       2.380476\n",
      "Rating    0.059722\n",
      "dtype: float64\n",
      "             Age    Rating\n",
      "count   4.000000  4.000000\n",
      "mean   22.500000  4.195000\n",
      "std     2.380476  0.059722\n",
      "min    20.000000  4.110000\n",
      "25%    20.750000  4.185000\n",
      "50%    22.500000  4.210000\n",
      "75%    24.250000  4.220000\n",
      "max    25.000000  4.250000\n"
     ]
    }
   ],
   "source": [
    "#print(df)\n",
    "#print(df.sum())\n",
    "#print(df.sum(1))\n",
    "print(df.mean())\n",
    "print(df.std())\n",
    "print(df.describe())"
   ]
  },
  {
   "cell_type": "code",
   "execution_count": null,
   "metadata": {},
   "outputs": [],
   "source": [
    "data3 = {\n",
    "    'Name' : pd.Series(['Tom', 'Jane', 'Thoms', 'Nick']),\n",
    "    'Age' : pd.Series([24,25, 21, 20]),\n",
    "    'Rating' : pd.Series([4.21, 4.25, 4.21, 4.11])\n",
    "}"
   ]
  },
  {
   "cell_type": "code",
   "execution_count": 28,
   "metadata": {},
   "outputs": [
    {
     "name": "stdout",
     "output_type": "stream",
     "text": [
      "       col1      col2      col3\n",
      "0  0.969521  1.285004 -1.378558\n",
      "1 -1.219010  0.509898 -1.217871\n",
      "2  0.004606  0.147815  0.385425\n",
      "3 -0.223553 -1.077405 -0.204720\n",
      "4 -0.657029  1.173949  0.840337\n",
      "col1   -0.225093\n",
      "col2    0.407852\n",
      "col3   -0.315077\n",
      "dtype: float64\n"
     ]
    }
   ],
   "source": [
    "def adder(a,  b):\n",
    "    return a + b\n",
    "\n",
    "df = pd.DataFrame(np.random.randn(5,3), columns=['col1', 'col2', 'col3'])\n",
    "print(df)\n",
    "df.pipe(adder, 2)\n",
    "print(df.apply(np.mean))"
   ]
  },
  {
   "cell_type": "code",
   "execution_count": 39,
   "metadata": {},
   "outputs": [
    {
     "name": "stdout",
     "output_type": "stream",
     "text": [
      "            A         C           D         x         y\n",
      "0  2018-01-01  0.076208   90.138651  0.635625  0.320928\n",
      "1  2018-01-02  0.771133   96.896195  0.144395  0.671688\n",
      "2  2018-01-03  0.935684   90.174142  0.522537  0.766792\n",
      "3  2018-01-04  0.264533  103.673405  0.675259  0.117984\n",
      "4  2018-01-05  0.268993  106.866865  0.869888  0.266415\n",
      "5  2018-01-06  0.033666  102.079380  0.108088  0.079102\n",
      "6  2018-01-07  0.227696  108.537274  0.326969  0.366484\n",
      "7  2018-01-08  0.328259  103.040714  0.934561  0.203939\n",
      "8  2018-01-09  0.250767   98.681140  0.880216  0.203421\n",
      "9  2018-01-10  0.178097   76.667280  0.344121  0.095181\n",
      "10 2018-01-11  0.984704  111.070975  0.995316  0.796522\n",
      "11 2018-01-12  0.462469   90.490865  0.708336  0.330630\n",
      "12 2018-01-13  0.417031   88.847196  0.240893  0.421427\n",
      "13 2018-01-14  0.450828   97.192341  0.785421  0.007836\n",
      "14 2018-01-15  0.033697   86.505543  0.343426  0.799599\n",
      "15 2018-01-16  0.275132   91.776683  0.135543  0.844762\n",
      "16 2018-01-17  0.943832  114.387218  0.569677  0.978676\n",
      "17 2018-01-18  0.196895  104.371060  0.193738  0.269115\n",
      "18 2018-01-19  0.399343  114.052010  0.418845  0.742179\n",
      "19 2018-01-20  0.435908   97.819344  0.249731  0.385998\n",
      "           A         C   B\n",
      "0 2018-01-01  0.076208 NaN\n",
      "2 2018-01-03  0.935684 NaN\n",
      "5 2018-01-06  0.033666 NaN\n"
     ]
    }
   ],
   "source": [
    "N = 20;\n",
    "df = pd.DataFrame(\n",
    "    {\n",
    "        'A' : pd.date_range(start='2018-01-01', periods=N, freq='D'),\n",
    "        'x' : np.random.rand(N),\n",
    "        'y' : np.random.rand(N),\n",
    "        'C' : np.random.rand(N),\n",
    "        'D': np.random.normal(100, 10, size=(N)).tolist()\n",
    "    }\n",
    ")\n",
    "print(df)\n",
    "df_reindexed = df.reindex(index=[0, 2, 5], columns=['A', 'C', 'B'])\n",
    "print(df_reindexed)"
   ]
  },
  {
   "cell_type": "code",
   "execution_count": null,
   "metadata": {},
   "outputs": [],
   "source": []
  },
  {
   "cell_type": "code",
   "execution_count": null,
   "metadata": {},
   "outputs": [],
   "source": []
  },
  {
   "cell_type": "code",
   "execution_count": null,
   "metadata": {},
   "outputs": [],
   "source": []
  },
  {
   "cell_type": "code",
   "execution_count": null,
   "metadata": {},
   "outputs": [],
   "source": []
  }
 ],
 "metadata": {
  "kernelspec": {
   "display_name": "Python 3",
   "language": "python",
   "name": "python3"
  },
  "language_info": {
   "codemirror_mode": {
    "name": "ipython",
    "version": 3
   },
   "file_extension": ".py",
   "mimetype": "text/x-python",
   "name": "python",
   "nbconvert_exporter": "python",
   "pygments_lexer": "ipython3",
   "version": "3.6.4"
  }
 },
 "nbformat": 4,
 "nbformat_minor": 2
}
