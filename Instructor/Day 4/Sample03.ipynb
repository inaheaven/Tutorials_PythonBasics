{
 "cells": [
  {
   "cell_type": "code",
   "execution_count": 26,
   "metadata": {},
   "outputs": [
    {
     "name": "stdout",
     "output_type": "stream",
     "text": [
      "     a  b\n",
      "100  1  2\n",
      "200  3  4\n",
      "100  5  6\n",
      "200  7  8\n",
      "     a  b\n",
      "100  1  2\n",
      "200  3  4\n",
      "100  5  6\n",
      "200  7  8\n"
     ]
    }
   ],
   "source": [
    "import pandas as pd\n",
    "data = {\n",
    "    'one' : pd.Series([1, 2, 3], index=['a', 'b', 'c']),\n",
    "    'two' : pd.Series([1, 2, 3, 4], index=['a', 'b', 'c', 'd'])    \n",
    "}\n",
    "df = pd.DataFrame(data)\n",
    "#print(df)\n",
    "#print(df['one'])\n",
    "#df['three'] = pd.Series([10, 20, 30], index=['a', 'b', 'c'])   \n",
    "#print(df)\n",
    "#del df['one']\n",
    "#print(df)\n",
    "#df.pop('two')\n",
    "#print(df)\n",
    "#df.loc['a']\n",
    "#df.iloc[1]\n",
    "#df[2:4]\n",
    "df = pd.DataFrame([[1,2],[3,4]], columns = ['a', 'b'], index=[100,200])\n",
    "df2 = pd.DataFrame([[5,6],[7,8]], columns = ['a', 'b'], index=[100,200])\n",
    "df = df.append(df2)\n",
    "#print(df)\n",
    "#df['c'] = pd.Series([6,7],index=[100, 200])\n",
    "print(df)\n",
    "#df = df.drop(1)\n",
    "print(df)\n"
   ]
  },
  {
   "cell_type": "code",
   "execution_count": null,
   "metadata": {},
   "outputs": [],
   "source": []
  }
 ],
 "metadata": {
  "kernelspec": {
   "display_name": "Python 3",
   "language": "python",
   "name": "python3"
  },
  "language_info": {
   "codemirror_mode": {
    "name": "ipython",
    "version": 3
   },
   "file_extension": ".py",
   "mimetype": "text/x-python",
   "name": "python",
   "nbconvert_exporter": "python",
   "pygments_lexer": "ipython3",
   "version": "3.6.4"
  }
 },
 "nbformat": 4,
 "nbformat_minor": 2
}
