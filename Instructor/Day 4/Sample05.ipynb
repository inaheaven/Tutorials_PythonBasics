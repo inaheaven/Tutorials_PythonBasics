{
 "cells": [
  {
   "cell_type": "code",
   "execution_count": 8,
   "metadata": {},
   "outputs": [
    {
     "name": "stdout",
     "output_type": "stream",
     "text": [
      "0   -1.307320\n",
      "1   -0.999548\n",
      "2    0.187289\n",
      "3    0.275474\n",
      "dtype: float64\n",
      "[RangeIndex(start=0, stop=4, step=1)]\n",
      "False\n",
      "1\n",
      "4\n",
      "[-1.30732006 -0.99954778  0.18728871  0.27547422]\n",
      "0   -1.307320\n",
      "1   -0.999548\n",
      "dtype: float64\n",
      "2    0.187289\n",
      "3    0.275474\n",
      "dtype: float64\n"
     ]
    }
   ],
   "source": [
    "import pandas as pd\n",
    "import numpy as np\n",
    "\n",
    "s = pd.Series(np.random.randn(4))\n",
    "print(s)\n",
    "print(s.axes)\n",
    "print(s.empty)\n",
    "print(s.ndim)\n",
    "print(s.size)\n",
    "print(s.values)\n",
    "print(s.head(2))\n",
    "print(s.tail(2))\n"
   ]
  },
  {
   "cell_type": "code",
   "execution_count": 11,
   "metadata": {},
   "outputs": [
    {
     "name": "stdout",
     "output_type": "stream",
     "text": [
      "   Age   Name  Rating\n",
      "0   24    Tom    4.21\n",
      "1   25   Jane    4.25\n",
      "2   21  Thoms    4.21\n",
      "3   20   Nick    4.11\n"
     ]
    }
   ],
   "source": [
    "data2 = {\n",
    "    'Name' : pd.Series(['Tom', 'Jane', 'Thoms', 'Nick']),\n",
    "    'Age' : pd.Series([24,25, 21, 20]),\n",
    "    'Rating' : pd.Series([4.21, 4.25, 4.21, 4.11])\n",
    "}\n",
    "df = pd.DataFrame(data2)\n",
    "print(df)"
   ]
  },
  {
   "cell_type": "code",
   "execution_count": 18,
   "metadata": {},
   "outputs": [
    {
     "name": "stdout",
     "output_type": "stream",
     "text": [
      "           0     1      2     3\n",
      "Age       24    25     21    20\n",
      "Name     Tom  Jane  Thoms  Nick\n",
      "Rating  4.21  4.25   4.21  4.11\n",
      "[RangeIndex(start=0, stop=4, step=1), Index(['Age', 'Name', 'Rating'], dtype='object')]\n",
      "Age         int64\n",
      "Name       object\n",
      "Rating    float64\n",
      "dtype: object\n",
      "(4, 3)\n",
      "[[24 'Tom' 4.21]\n",
      " [25 'Jane' 4.25]\n",
      " [21 'Thoms' 4.21]\n",
      " [20 'Nick' 4.11]]\n",
      "   Age  Name  Rating\n",
      "0   24   Tom    4.21\n",
      "1   25  Jane    4.25\n",
      "   Age   Name  Rating\n",
      "2   21  Thoms    4.21\n",
      "3   20   Nick    4.11\n"
     ]
    }
   ],
   "source": [
    "print(df.T) #Transpose\n",
    "print(df.axes)\n",
    "print(df.dtypes)\n",
    "print(df.shape)\n",
    "print(df.values)\n",
    "print(df.head(2))\n",
    "print(df.tail(2))"
   ]
  },
  {
   "cell_type": "code",
   "execution_count": 25,
   "metadata": {},
   "outputs": [
    {
     "name": "stdout",
     "output_type": "stream",
     "text": [
      "Age       22.500\n",
      "Rating     4.195\n",
      "dtype: float64\n",
      "Age       2.380476\n",
      "Rating    0.059722\n",
      "dtype: float64\n"
     ]
    }
   ],
   "source": [
    "#print(df)\n",
    "#print(df.sum())\n",
    "#print(df.sum(1))\n",
    "print(df.mean())\n",
    "print(df.std())"
   ]
  },
  {
   "cell_type": "code",
   "execution_count": null,
   "metadata": {},
   "outputs": [],
   "source": []
  },
  {
   "cell_type": "code",
   "execution_count": null,
   "metadata": {},
   "outputs": [],
   "source": []
  },
  {
   "cell_type": "code",
   "execution_count": null,
   "metadata": {},
   "outputs": [],
   "source": []
  }
 ],
 "metadata": {
  "kernelspec": {
   "display_name": "Python 3",
   "language": "python",
   "name": "python3"
  },
  "language_info": {
   "codemirror_mode": {
    "name": "ipython",
    "version": 3
   },
   "file_extension": ".py",
   "mimetype": "text/x-python",
   "name": "python",
   "nbconvert_exporter": "python",
   "pygments_lexer": "ipython3",
   "version": "3.6.4"
  }
 },
 "nbformat": 4,
 "nbformat_minor": 2
}
