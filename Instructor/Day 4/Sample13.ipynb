{
 "cells": [
  {
   "cell_type": "code",
   "execution_count": 8,
   "metadata": {},
   "outputs": [
    {
     "name": "stdout",
     "output_type": "stream",
     "text": [
      "    Name  id subject_id\n",
      "0   Alex   1       sub1\n",
      "1    Amy   2       sub2\n",
      "2  Allen   3       sub4\n",
      "3  Alice   4       sub6\n",
      "4    Tom   5       sub5\n",
      "    Name  id subject_id\n",
      "0   Blex   1       sub2\n",
      "1    Bmy   2       sub4\n",
      "2  Bllen   3       sub3\n",
      "3  Blice   4       sub6\n",
      "4    Yom   5       sub5\n"
     ]
    },
    {
     "data": {
      "text/html": [
       "<div>\n",
       "<style scoped>\n",
       "    .dataframe tbody tr th:only-of-type {\n",
       "        vertical-align: middle;\n",
       "    }\n",
       "\n",
       "    .dataframe tbody tr th {\n",
       "        vertical-align: top;\n",
       "    }\n",
       "\n",
       "    .dataframe thead th {\n",
       "        text-align: right;\n",
       "    }\n",
       "</style>\n",
       "<table border=\"1\" class=\"dataframe\">\n",
       "  <thead>\n",
       "    <tr style=\"text-align: right;\">\n",
       "      <th></th>\n",
       "      <th>Name_x</th>\n",
       "      <th>id_x</th>\n",
       "      <th>subject_id</th>\n",
       "      <th>Name_y</th>\n",
       "      <th>id_y</th>\n",
       "    </tr>\n",
       "  </thead>\n",
       "  <tbody>\n",
       "    <tr>\n",
       "      <th>0</th>\n",
       "      <td>Amy</td>\n",
       "      <td>2</td>\n",
       "      <td>sub2</td>\n",
       "      <td>Blex</td>\n",
       "      <td>1</td>\n",
       "    </tr>\n",
       "    <tr>\n",
       "      <th>1</th>\n",
       "      <td>Allen</td>\n",
       "      <td>3</td>\n",
       "      <td>sub4</td>\n",
       "      <td>Bmy</td>\n",
       "      <td>2</td>\n",
       "    </tr>\n",
       "    <tr>\n",
       "      <th>2</th>\n",
       "      <td>Alice</td>\n",
       "      <td>4</td>\n",
       "      <td>sub6</td>\n",
       "      <td>Blice</td>\n",
       "      <td>4</td>\n",
       "    </tr>\n",
       "    <tr>\n",
       "      <th>3</th>\n",
       "      <td>Tom</td>\n",
       "      <td>5</td>\n",
       "      <td>sub5</td>\n",
       "      <td>Yom</td>\n",
       "      <td>5</td>\n",
       "    </tr>\n",
       "  </tbody>\n",
       "</table>\n",
       "</div>"
      ],
      "text/plain": [
       "  Name_x  id_x subject_id Name_y  id_y\n",
       "0    Amy     2       sub2   Blex     1\n",
       "1  Allen     3       sub4    Bmy     2\n",
       "2  Alice     4       sub6  Blice     4\n",
       "3    Tom     5       sub5    Yom     5"
      ]
     },
     "execution_count": 8,
     "metadata": {},
     "output_type": "execute_result"
    }
   ],
   "source": [
    "import pandas as pd\n",
    "\n",
    "left = pd.DataFrame({'id' : [1, 2, 3, 4, 5],\n",
    "    'Name' : ['Alex', 'Amy', 'Allen', 'Alice', 'Tom'],\n",
    "    'subject_id' : ['sub1', 'sub2', 'sub4', 'sub6', 'sub5']})\n",
    "\n",
    "right = pd.DataFrame({'id' : [1, 2, 3, 4, 5],\n",
    "    'Name' : ['Blex', 'Bmy', 'Bllen', 'Blice', 'Yom'],\n",
    "    'subject_id' : ['sub2', 'sub4', 'sub3', 'sub6', 'sub5']})\n",
    "\n",
    "print(left)\n",
    "print(right)\n",
    "pd.merge(left, right, on='id')\n",
    "pd.merge(left, right, on=['id', 'subject_id'])\n",
    "pd.merge(left, right, on='subject_id', how='left')\n",
    "pd.merge(left, right, on='subject_id', how='right')\n",
    "pd.merge(left, right, on='subject_id', how='outer')\n",
    "pd.merge(left, right, on='subject_id', how='inner')"
   ]
  },
  {
   "cell_type": "code",
   "execution_count": null,
   "metadata": {},
   "outputs": [],
   "source": []
  }
 ],
 "metadata": {
  "kernelspec": {
   "display_name": "Python 3",
   "language": "python",
   "name": "python3"
  },
  "language_info": {
   "codemirror_mode": {
    "name": "ipython",
    "version": 3
   },
   "file_extension": ".py",
   "mimetype": "text/x-python",
   "name": "python",
   "nbconvert_exporter": "python",
   "pygments_lexer": "ipython3",
   "version": "3.6.4"
  }
 },
 "nbformat": 4,
 "nbformat_minor": 2
}
