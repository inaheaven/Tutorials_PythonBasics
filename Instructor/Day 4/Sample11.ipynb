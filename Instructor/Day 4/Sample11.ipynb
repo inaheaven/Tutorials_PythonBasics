{
 "cells": [
  {
   "cell_type": "code",
   "execution_count": 20,
   "metadata": {},
   "outputs": [
    {
     "name": "stdout",
     "output_type": "stream",
     "text": [
      "        one       two     three\n",
      "a -1.097637  0.796070 -0.639117\n",
      "c  0.201211 -0.909976  0.585695\n",
      "e  1.029080  1.204757  1.040011\n",
      "f -1.441886 -0.449562  0.534005\n",
      "h  0.373825 -0.520223  0.923067\n"
     ]
    },
    {
     "data": {
      "text/html": [
       "<div>\n",
       "<style scoped>\n",
       "    .dataframe tbody tr th:only-of-type {\n",
       "        vertical-align: middle;\n",
       "    }\n",
       "\n",
       "    .dataframe tbody tr th {\n",
       "        vertical-align: top;\n",
       "    }\n",
       "\n",
       "    .dataframe thead th {\n",
       "        text-align: right;\n",
       "    }\n",
       "</style>\n",
       "<table border=\"1\" class=\"dataframe\">\n",
       "  <thead>\n",
       "    <tr style=\"text-align: right;\">\n",
       "      <th></th>\n",
       "      <th>one</th>\n",
       "      <th>two</th>\n",
       "      <th>three</th>\n",
       "    </tr>\n",
       "  </thead>\n",
       "  <tbody>\n",
       "    <tr>\n",
       "      <th>a</th>\n",
       "      <td>-1.097637</td>\n",
       "      <td>0.796070</td>\n",
       "      <td>-0.639117</td>\n",
       "    </tr>\n",
       "    <tr>\n",
       "      <th>b</th>\n",
       "      <td>0.000000</td>\n",
       "      <td>0.000000</td>\n",
       "      <td>0.000000</td>\n",
       "    </tr>\n",
       "    <tr>\n",
       "      <th>c</th>\n",
       "      <td>0.201211</td>\n",
       "      <td>-0.909976</td>\n",
       "      <td>0.585695</td>\n",
       "    </tr>\n",
       "    <tr>\n",
       "      <th>d</th>\n",
       "      <td>0.000000</td>\n",
       "      <td>0.000000</td>\n",
       "      <td>0.000000</td>\n",
       "    </tr>\n",
       "    <tr>\n",
       "      <th>e</th>\n",
       "      <td>1.029080</td>\n",
       "      <td>1.204757</td>\n",
       "      <td>1.040011</td>\n",
       "    </tr>\n",
       "    <tr>\n",
       "      <th>f</th>\n",
       "      <td>-1.441886</td>\n",
       "      <td>-0.449562</td>\n",
       "      <td>0.534005</td>\n",
       "    </tr>\n",
       "    <tr>\n",
       "      <th>g</th>\n",
       "      <td>0.000000</td>\n",
       "      <td>0.000000</td>\n",
       "      <td>0.000000</td>\n",
       "    </tr>\n",
       "    <tr>\n",
       "      <th>h</th>\n",
       "      <td>0.373825</td>\n",
       "      <td>-0.520223</td>\n",
       "      <td>0.923067</td>\n",
       "    </tr>\n",
       "  </tbody>\n",
       "</table>\n",
       "</div>"
      ],
      "text/plain": [
       "        one       two     three\n",
       "a -1.097637  0.796070 -0.639117\n",
       "b  0.000000  0.000000  0.000000\n",
       "c  0.201211 -0.909976  0.585695\n",
       "d  0.000000  0.000000  0.000000\n",
       "e  1.029080  1.204757  1.040011\n",
       "f -1.441886 -0.449562  0.534005\n",
       "g  0.000000  0.000000  0.000000\n",
       "h  0.373825 -0.520223  0.923067"
      ]
     },
     "execution_count": 20,
     "metadata": {},
     "output_type": "execute_result"
    }
   ],
   "source": [
    "import pandas as pd\n",
    "import numpy as np\n",
    "\n",
    "df = pd.DataFrame(np.random.randn(5,3), \n",
    "                 index=['a', 'c','e','f', 'h'],\n",
    "                  columns=['one', 'two','three'])\n",
    "print(df)\n",
    "df = df.reindex(['a', 'b','c', 'd','e', 'f','g', 'h'])\n",
    "df\n",
    "#df['one'].isnull()\n",
    "#df['one'].sum()\n",
    "df.fillna(0) "
   ]
  },
  {
   "cell_type": "code",
   "execution_count": null,
   "metadata": {},
   "outputs": [],
   "source": []
  }
 ],
 "metadata": {
  "kernelspec": {
   "display_name": "Python 3",
   "language": "python",
   "name": "python3"
  },
  "language_info": {
   "codemirror_mode": {
    "name": "ipython",
    "version": 3
   },
   "file_extension": ".py",
   "mimetype": "text/x-python",
   "name": "python",
   "nbconvert_exporter": "python",
   "pygments_lexer": "ipython3",
   "version": "3.6.4"
  }
 },
 "nbformat": 4,
 "nbformat_minor": 2
}
