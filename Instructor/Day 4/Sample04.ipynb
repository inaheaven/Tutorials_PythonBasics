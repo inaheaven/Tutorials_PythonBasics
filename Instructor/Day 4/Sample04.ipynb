{
 "cells": [
  {
   "cell_type": "code",
   "execution_count": 1,
   "metadata": {},
   "outputs": [],
   "source": [
    "import pandas as pd\n",
    "import numpy as np\n",
    "\n",
    "data = np.random.rand(2, 4, 5)"
   ]
  },
  {
   "cell_type": "code",
   "execution_count": 2,
   "metadata": {
    "scrolled": true
   },
   "outputs": [
    {
     "name": "stdout",
     "output_type": "stream",
     "text": [
      "<class 'pandas.core.panel.Panel'>\n",
      "Dimensions: 2 (items) x 4 (major_axis) x 5 (minor_axis)\n",
      "Items axis: 0 to 1\n",
      "Major_axis axis: 0 to 3\n",
      "Minor_axis axis: 0 to 4\n"
     ]
    }
   ],
   "source": [
    "p = pd.Panel(data)\n",
    "print(p)"
   ]
  },
  {
   "cell_type": "code",
   "execution_count": 3,
   "metadata": {},
   "outputs": [
    {
     "name": "stdout",
     "output_type": "stream",
     "text": [
      "<class 'pandas.core.panel.Panel'>\n",
      "Dimensions: 0 (items) x 0 (major_axis) x 0 (minor_axis)\n",
      "Items axis: None\n",
      "Major_axis axis: None\n",
      "Minor_axis axis: None\n"
     ]
    }
   ],
   "source": [
    "p = pd.Panel()\n",
    "print(p)"
   ]
  },
  {
   "cell_type": "code",
   "execution_count": 6,
   "metadata": {},
   "outputs": [
    {
     "name": "stdout",
     "output_type": "stream",
     "text": [
      "<class 'pandas.core.panel.Panel'>\n",
      "Dimensions: 2 (items) x 4 (major_axis) x 3 (minor_axis)\n",
      "Items axis: Item1 to Item2\n",
      "Major_axis axis: 0 to 3\n",
      "Minor_axis axis: 0 to 2\n",
      "          0         1         2\n",
      "0 -3.251614  0.624354  0.133350\n",
      "1  1.682097  1.414791  0.248737\n",
      "2 -0.924030 -1.687870 -0.607495\n",
      "3  1.401105 -0.697566  0.650530\n",
      "          0         1   2\n",
      "0  0.765311  1.120513 NaN\n",
      "1 -0.026224  0.360935 NaN\n",
      "2  0.337604  0.218577 NaN\n",
      "3 -0.398588  0.029666 NaN\n"
     ]
    }
   ],
   "source": [
    "data = { \n",
    "    'Item1' : pd.DataFrame(np.random.randn(4, 3)),\n",
    "    'Item2' : pd.DataFrame(np.random.randn(4, 2))\n",
    "}\n",
    "p = pd.Panel(data)\n",
    "#print(p)\n",
    "#print(p['Item1'])\n",
    "#print(p['Item2'])\n",
    "p.minor_xs(1)"
   ]
  },
  {
   "cell_type": "code",
   "execution_count": null,
   "metadata": {},
   "outputs": [],
   "source": []
  },
  {
   "cell_type": "code",
   "execution_count": null,
   "metadata": {},
   "outputs": [],
   "source": []
  },
  {
   "cell_type": "code",
   "execution_count": null,
   "metadata": {},
   "outputs": [],
   "source": []
  },
  {
   "cell_type": "code",
   "execution_count": null,
   "metadata": {},
   "outputs": [],
   "source": []
  }
 ],
 "metadata": {
  "kernelspec": {
   "display_name": "Python 3",
   "language": "python",
   "name": "python3"
  },
  "language_info": {
   "codemirror_mode": {
    "name": "ipython",
    "version": 3
   },
   "file_extension": ".py",
   "mimetype": "text/x-python",
   "name": "python",
   "nbconvert_exporter": "python",
   "pygments_lexer": "ipython3",
   "version": "3.6.4"
  }
 },
 "nbformat": 4,
 "nbformat_minor": 2
}
