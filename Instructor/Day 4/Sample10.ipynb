{
 "cells": [
  {
   "cell_type": "code",
   "execution_count": 7,
   "metadata": {},
   "outputs": [
    {
     "data": {
      "text/html": [
       "<div>\n",
       "<style scoped>\n",
       "    .dataframe tbody tr th:only-of-type {\n",
       "        vertical-align: middle;\n",
       "    }\n",
       "\n",
       "    .dataframe tbody tr th {\n",
       "        vertical-align: top;\n",
       "    }\n",
       "\n",
       "    .dataframe thead th {\n",
       "        text-align: right;\n",
       "    }\n",
       "</style>\n",
       "<table border=\"1\" class=\"dataframe\">\n",
       "  <thead>\n",
       "    <tr style=\"text-align: right;\">\n",
       "      <th></th>\n",
       "      <th>col1</th>\n",
       "      <th>col2</th>\n",
       "    </tr>\n",
       "  </thead>\n",
       "  <tbody>\n",
       "    <tr>\n",
       "      <th>2</th>\n",
       "      <td>1</td>\n",
       "      <td>2</td>\n",
       "    </tr>\n",
       "    <tr>\n",
       "      <th>1</th>\n",
       "      <td>1</td>\n",
       "      <td>3</td>\n",
       "    </tr>\n",
       "    <tr>\n",
       "      <th>3</th>\n",
       "      <td>1</td>\n",
       "      <td>4</td>\n",
       "    </tr>\n",
       "    <tr>\n",
       "      <th>0</th>\n",
       "      <td>2</td>\n",
       "      <td>1</td>\n",
       "    </tr>\n",
       "  </tbody>\n",
       "</table>\n",
       "</div>"
      ],
      "text/plain": [
       "   col1  col2\n",
       "2     1     2\n",
       "1     1     3\n",
       "3     1     4\n",
       "0     2     1"
      ]
     },
     "execution_count": 7,
     "metadata": {},
     "output_type": "execute_result"
    }
   ],
   "source": [
    "import pandas as pd\n",
    "import numpy as np\n",
    "\n",
    "unsorted_df = pd.DataFrame({'col1':[2, 1, 1, 1], 'col2':[1, 3,2, 4]})\n",
    "sorted_df = unsorted_df.sort_values(by='col1', ascending=False)\n",
    "sorted_df2 = unsorted_df.sort_values(by=['col1', 'col2'])\n",
    "sorted_df2"
   ]
  },
  {
   "cell_type": "code",
   "execution_count": 11,
   "metadata": {},
   "outputs": [
    {
     "data": {
      "text/plain": [
       "100"
      ]
     },
     "execution_count": 11,
     "metadata": {},
     "output_type": "execute_result"
    }
   ],
   "source": [
    "import pandas as pd\n",
    "pd.get_option(\"display.max_rows\")\n",
    "pd.set_option(\"display.max_rows\", 100)\n",
    "pd.get_option(\"display.max_rows\")"
   ]
  },
  {
   "cell_type": "code",
   "execution_count": 20,
   "metadata": {},
   "outputs": [
    {
     "name": "stdout",
     "output_type": "stream",
     "text": [
      "          A         B         C         B\n",
      "a  0.460075 -1.570633  0.857796  0.017281\n",
      "b -1.963197 -0.053013  0.164663  0.710914\n",
      "c  0.630474  1.508126  0.435068  1.396078\n",
      "d  0.384146 -0.944458 -1.468087 -0.492226\n",
      "e -0.958301  0.069961 -0.166155  0.399011\n",
      "f  1.479911 -0.024518  1.450628 -1.740611\n",
      "g  1.046627 -0.585844 -0.780038  1.242499\n",
      "h  0.985222  0.035576 -1.217829  2.064642\n",
      "a    0.460075\n",
      "b   -1.963197\n",
      "c    0.630474\n",
      "d    0.384146\n",
      "e   -0.958301\n",
      "f    1.479911\n",
      "g    1.046627\n",
      "h    0.985222\n",
      "Name: A, dtype: float64\n",
      "          A         C\n",
      "a  0.460075  0.857796\n",
      "b -1.963197  0.164663\n",
      "c  0.630474  0.435068\n",
      "d  0.384146 -1.468087\n",
      "e -0.958301 -0.166155\n",
      "f  1.479911  1.450628\n",
      "g  1.046627 -0.780038\n",
      "h  0.985222 -1.217829\n"
     ]
    }
   ],
   "source": [
    "import pandas as pd\n",
    "import numpy as np\n",
    "\n",
    "df = pd.DataFrame(np.random.randn(8,4),\n",
    "    index=['a','b','c','d','e','f','g','h'], columns = ['A', 'B', 'C', 'B'])\n",
    "print(df)\n",
    "print(df.loc[:,'A'])\n",
    "print(df.loc[:,['A', 'C']])\n",
    "df.loc['a' : 'h']"
   ]
  },
  {
   "cell_type": "code",
   "execution_count": null,
   "metadata": {},
   "outputs": [],
   "source": []
  },
  {
   "cell_type": "code",
   "execution_count": null,
   "metadata": {},
   "outputs": [],
   "source": []
  },
  {
   "cell_type": "code",
   "execution_count": null,
   "metadata": {},
   "outputs": [],
   "source": []
  },
  {
   "cell_type": "code",
   "execution_count": null,
   "metadata": {},
   "outputs": [],
   "source": []
  }
 ],
 "metadata": {
  "kernelspec": {
   "display_name": "Python 3",
   "language": "python",
   "name": "python3"
  },
  "language_info": {
   "codemirror_mode": {
    "name": "ipython",
    "version": 3
   },
   "file_extension": ".py",
   "mimetype": "text/x-python",
   "name": "python",
   "nbconvert_exporter": "python",
   "pygments_lexer": "ipython3",
   "version": "3.6.4"
  }
 },
 "nbformat": 4,
 "nbformat_minor": 2
}
