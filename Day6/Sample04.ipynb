{
 "cells": [
  {
   "cell_type": "code",
   "execution_count": 4,
   "metadata": {},
   "outputs": [],
   "source": [
    "from bs4 import BeautifulSoup\n",
    "import pandas as pd\n",
    "from urllib.request import urlopen"
   ]
  },
  {
   "cell_type": "code",
   "execution_count": 15,
   "metadata": {},
   "outputs": [
    {
     "data": {
      "text/plain": [
       "'덕구'"
      ]
     },
     "execution_count": 15,
     "metadata": {},
     "output_type": "execute_result"
    }
   ],
   "source": [
    "url_base = \"https://movie.naver.com/\"\n",
    "url_sub = \"movie/sdb/rank/rmovie.nhn?sel=cur&date=20180428\"\n",
    "page = urlopen(url_base+url_sub)\n",
    "soup = BeautifulSoup(page, \"html.parser\")\n",
    "soup.find_all('div', 'tit5')[0]\n",
    "soup.find_all('div', 'tit5')[0].a\n",
    "soup.find_all('div', 'tit5')[0].a.string"
   ]
  },
  {
   "cell_type": "code",
   "execution_count": 25,
   "metadata": {},
   "outputs": [
    {
     "data": {
      "text/plain": [
       "[<div class=\"tit5\">\n",
       " <a href=\"/movie/bi/mi/basic.nhn?code=154667\" title=\"덕구\">덕구</a>\n",
       " </div>, <div class=\"tit5\">\n",
       " <a href=\"/movie/bi/mi/basic.nhn?code=151196\" title=\"원더\">원더</a>\n",
       " </div>, <div class=\"tit5\">\n",
       " <a href=\"/movie/bi/mi/basic.nhn?code=106360\" title=\"위대한 쇼맨\">위대한 쇼맨</a>\n",
       " </div>, <div class=\"tit5\">\n",
       " <a href=\"/movie/bi/mi/basic.nhn?code=39636\" title=\"지금, 만나러 갑니다\">지금, 만나러 갑니다</a>\n",
       " </div>, <div class=\"tit5\">\n",
       " <a href=\"/movie/bi/mi/basic.nhn?code=164290\" title=\"킹 오브 프리즘 프라이드 더 히어로\">킹 오브 프리즘 프라이드 더 히어로</a>\n",
       " </div>, <div class=\"tit5\">\n",
       " <a href=\"/movie/bi/mi/basic.nhn?code=17162\" title=\"브레이브하트\">브레이브하트</a>\n",
       " </div>, <div class=\"tit5\">\n",
       " <a href=\"/movie/bi/mi/basic.nhn?code=10101\" title=\"로마의 휴일\">로마의 휴일</a>\n",
       " </div>, <div class=\"tit5\">\n",
       " <a href=\"/movie/bi/mi/basic.nhn?code=150376\" title=\"나, 다니엘 블레이크\">나, 다니엘 블레이크</a>\n",
       " </div>, <div class=\"tit5\">\n",
       " <a href=\"/movie/bi/mi/basic.nhn?code=146504\" title=\"우리들\">우리들</a>\n",
       " </div>, <div class=\"tit5\">\n",
       " <a href=\"/movie/bi/mi/basic.nhn?code=144379\" title=\"러빙 빈센트\">러빙 빈센트</a>\n",
       " </div>, <div class=\"tit5\">\n",
       " <a href=\"/movie/bi/mi/basic.nhn?code=154437\" title=\"내 사랑\">내 사랑</a>\n",
       " </div>, <div class=\"tit5\">\n",
       " <a href=\"/movie/bi/mi/basic.nhn?code=136315\" title=\"어벤져스: 인피니티 워\">어벤져스: 인피니티 워</a>\n",
       " </div>, <div class=\"tit5\">\n",
       " <a href=\"/movie/bi/mi/basic.nhn?code=173653\" title=\"그날, 바다\">그날, 바다</a>\n",
       " </div>, <div class=\"tit5\">\n",
       " <a href=\"/movie/bi/mi/basic.nhn?code=27219\" title=\"박하사탕\">박하사탕</a>\n",
       " </div>, <div class=\"tit5\">\n",
       " <a href=\"/movie/bi/mi/basic.nhn?code=151254\" title=\"비밥바룰라\">비밥바룰라</a>\n",
       " </div>, <div class=\"tit5\">\n",
       " <a href=\"/movie/bi/mi/basic.nhn?code=96379\" title=\"비긴 어게인\">비긴 어게인</a>\n",
       " </div>, <div class=\"tit5\">\n",
       " <a href=\"/movie/bi/mi/basic.nhn?code=159311\" title=\"소공녀\">소공녀</a>\n",
       " </div>, <div class=\"tit5\">\n",
       " <a href=\"/movie/bi/mi/basic.nhn?code=158610\" title=\"쓰리 빌보드\">쓰리 빌보드</a>\n",
       " </div>, <div class=\"tit5\">\n",
       " <a href=\"/movie/bi/mi/basic.nhn?code=87309\" title=\"라이프 오브 파이\">라이프 오브 파이</a>\n",
       " </div>, <div class=\"tit5\">\n",
       " <a href=\"/movie/bi/mi/basic.nhn?code=38546\" title=\"아무도 모른다\">아무도 모른다</a>\n",
       " </div>, <div class=\"tit5\">\n",
       " <a href=\"/movie/bi/mi/basic.nhn?code=156912\" title=\"안녕, 나의 소울메이트\">안녕, 나의 소울메이트</a>\n",
       " </div>, <div class=\"tit5\">\n",
       " <a href=\"/movie/bi/mi/basic.nhn?code=154449\" title=\"리틀 포레스트\">리틀 포레스트</a>\n",
       " </div>, <div class=\"tit5\">\n",
       " <a href=\"/movie/bi/mi/basic.nhn?code=168298\" title=\"지금 만나러 갑니다\">지금 만나러 갑니다</a>\n",
       " </div>, <div class=\"tit5\">\n",
       " <a href=\"/movie/bi/mi/basic.nhn?code=159848\" title=\"더 포스트\">더 포스트</a>\n",
       " </div>, <div class=\"tit5\">\n",
       " <a href=\"/movie/bi/mi/basic.nhn?code=136898\" title=\"레디 플레이어 원\">레디 플레이어 원</a>\n",
       " </div>, <div class=\"tit5\">\n",
       " <a href=\"/movie/bi/mi/basic.nhn?code=158611\" title=\"레이디 버드\">레이디 버드</a>\n",
       " </div>, <div class=\"tit5\">\n",
       " <a href=\"/movie/bi/mi/basic.nhn?code=85606\" title=\"자전거 탄 소년\">자전거 탄 소년</a>\n",
       " </div>, <div class=\"tit5\">\n",
       " <a href=\"/movie/bi/mi/basic.nhn?code=103797\" title=\"족구왕\">족구왕</a>\n",
       " </div>, <div class=\"tit5\">\n",
       " <a href=\"/movie/bi/mi/basic.nhn?code=132946\" title=\"4등\">4등</a>\n",
       " </div>, <div class=\"tit5\">\n",
       " <a href=\"/movie/bi/mi/basic.nhn?code=164719\" title=\"플로리다 프로젝트\">플로리다 프로젝트</a>\n",
       " </div>, <div class=\"tit5\">\n",
       " <a href=\"/movie/bi/mi/basic.nhn?code=162249\" title=\"램페이지\">램페이지</a>\n",
       " </div>, <div class=\"tit5\">\n",
       " <a href=\"/movie/bi/mi/basic.nhn?code=158645\" title=\"팬텀 스레드\">팬텀 스레드</a>\n",
       " </div>, <div class=\"tit5\">\n",
       " <a href=\"/movie/bi/mi/basic.nhn?code=162153\" title=\"B급 며느리\">B급 며느리</a>\n",
       " </div>, <div class=\"tit5\">\n",
       " <a href=\"/movie/bi/mi/basic.nhn?code=158626\" title=\"셰이프 오브 워터: 사랑의 모양\">셰이프 오브 워터: 사랑의 모양</a>\n",
       " </div>, <div class=\"tit5\">\n",
       " <a href=\"/movie/bi/mi/basic.nhn?code=168037\" title=\"12 솔져스\">12 솔져스</a>\n",
       " </div>, <div class=\"tit5\">\n",
       " <a href=\"/movie/bi/mi/basic.nhn?code=147945\" title=\"다가오는 것들\">다가오는 것들</a>\n",
       " </div>, <div class=\"tit5\">\n",
       " <a href=\"/movie/bi/mi/basic.nhn?code=144975\" title=\"패터슨\">패터슨</a>\n",
       " </div>, <div class=\"tit5\">\n",
       " <a href=\"/movie/bi/mi/basic.nhn?code=168011\" title=\"콰이어트 플레이스\">콰이어트 플레이스</a>\n",
       " </div>, <div class=\"tit5\">\n",
       " <a href=\"/movie/bi/mi/basic.nhn?code=74954\" title=\"두 번의 결혼식과 한 번의 장례식\">두 번의 결혼식과 한 번의 장례식</a>\n",
       " </div>, <div class=\"tit5\">\n",
       " <a href=\"/movie/bi/mi/basic.nhn?code=151117\" title=\"더 테이블\">더 테이블</a>\n",
       " </div>, <div class=\"tit5\">\n",
       " <a href=\"/movie/bi/mi/basic.nhn?code=31368\" title=\"환상의 빛\">환상의 빛</a>\n",
       " </div>, <div class=\"tit5\">\n",
       " <a href=\"/movie/bi/mi/basic.nhn?code=172117\" title=\"문호 스트레이독스 [데드애플]\">문호 스트레이독스 [데드애플]</a>\n",
       " </div>, <div class=\"tit5\">\n",
       " <a href=\"/movie/bi/mi/basic.nhn?code=137326\" title=\"블랙 팬서\">블랙 팬서</a>\n",
       " </div>, <div class=\"tit5\">\n",
       " <a href=\"/movie/bi/mi/basic.nhn?code=125418\" title=\"튤립 피버\">튤립 피버</a>\n",
       " </div>, <div class=\"tit5\">\n",
       " <a href=\"/movie/bi/mi/basic.nhn?code=158885\" title=\"콜 미 바이 유어 네임\">콜 미 바이 유어 네임</a>\n",
       " </div>, <div class=\"tit5\">\n",
       " <a href=\"/movie/bi/mi/basic.nhn?code=165026\" title=\"사라진 밤\">사라진 밤</a>\n",
       " </div>, <div class=\"tit5\">\n",
       " <a href=\"/movie/bi/mi/basic.nhn?code=158555\" title=\"나를 기억해\">나를 기억해</a>\n",
       " </div>, <div class=\"tit5\">\n",
       " <a href=\"/movie/bi/mi/basic.nhn?code=172454\" title=\"곤지암\">곤지암</a>\n",
       " </div>, <div class=\"tit5\">\n",
       " <a href=\"/movie/bi/mi/basic.nhn?code=162956\" title=\"그 후\">그 후</a>\n",
       " </div>, <div class=\"tit5\">\n",
       " <a href=\"/movie/bi/mi/basic.nhn?code=142739\" title=\"바람 바람 바람\">바람 바람 바람</a>\n",
       " </div>]"
      ]
     },
     "execution_count": 25,
     "metadata": {},
     "output_type": "execute_result"
    }
   ],
   "source": [
    "soup.find_all('td', 'point')[0].string\n",
    "soup.find_all('div', 'tit5')"
   ]
  },
  {
   "cell_type": "code",
   "execution_count": 26,
   "metadata": {},
   "outputs": [
    {
     "data": {
      "text/plain": [
       "['덕구',\n",
       " '원더',\n",
       " '위대한 쇼맨',\n",
       " '지금, 만나러 갑니다',\n",
       " '킹 오브 프리즘 프라이드 더 히어로',\n",
       " '브레이브하트',\n",
       " '로마의 휴일',\n",
       " '나, 다니엘 블레이크',\n",
       " '우리들',\n",
       " '러빙 빈센트',\n",
       " '내 사랑',\n",
       " '어벤져스: 인피니티 워',\n",
       " '그날, 바다',\n",
       " '박하사탕',\n",
       " '비밥바룰라',\n",
       " '비긴 어게인',\n",
       " '소공녀',\n",
       " '쓰리 빌보드',\n",
       " '라이프 오브 파이',\n",
       " '아무도 모른다',\n",
       " '안녕, 나의 소울메이트',\n",
       " '리틀 포레스트',\n",
       " '지금 만나러 갑니다',\n",
       " '더 포스트',\n",
       " '레디 플레이어 원',\n",
       " '레이디 버드',\n",
       " '자전거 탄 소년',\n",
       " '족구왕',\n",
       " '4등',\n",
       " '플로리다 프로젝트',\n",
       " '램페이지',\n",
       " '팬텀 스레드',\n",
       " 'B급 며느리',\n",
       " '셰이프 오브 워터: 사랑의 모양',\n",
       " '12 솔져스',\n",
       " '다가오는 것들',\n",
       " '패터슨',\n",
       " '콰이어트 플레이스',\n",
       " '두 번의 결혼식과 한 번의 장례식',\n",
       " '더 테이블',\n",
       " '환상의 빛',\n",
       " '문호 스트레이독스 [데드애플]',\n",
       " '블랙 팬서',\n",
       " '튤립 피버',\n",
       " '콜 미 바이 유어 네임',\n",
       " '사라진 밤',\n",
       " '나를 기억해',\n",
       " '곤지암',\n",
       " '그 후']"
      ]
     },
     "execution_count": 26,
     "metadata": {},
     "output_type": "execute_result"
    }
   ],
   "source": [
    "movies = [soup.find_all('div','tit5')[inx].a.string for inx in range(0, 49)]\n",
    "movies"
   ]
  },
  {
   "cell_type": "code",
   "execution_count": 30,
   "metadata": {},
   "outputs": [
    {
     "data": {
      "text/plain": [
       "['9.52',\n",
       " '9.40',\n",
       " '9.38',\n",
       " '9.33',\n",
       " '9.32',\n",
       " '9.25',\n",
       " '9.23',\n",
       " '9.23',\n",
       " '9.21',\n",
       " '9.19',\n",
       " '9.18',\n",
       " '9.11',\n",
       " '9.09',\n",
       " '9.08',\n",
       " '9.05',\n",
       " '9.02',\n",
       " '8.95',\n",
       " '8.92',\n",
       " '8.83',\n",
       " '8.83',\n",
       " '8.83',\n",
       " '8.76',\n",
       " '8.74',\n",
       " '8.73',\n",
       " '8.63',\n",
       " '8.59',\n",
       " '8.58',\n",
       " '8.54',\n",
       " '8.53',\n",
       " '8.53',\n",
       " '8.49',\n",
       " '8.46',\n",
       " '8.41',\n",
       " '8.41',\n",
       " '8.39',\n",
       " '8.35',\n",
       " '8.30',\n",
       " '8.21',\n",
       " '8.08',\n",
       " '8.02',\n",
       " '8.01',\n",
       " '7.64',\n",
       " '7.57',\n",
       " '7.33',\n",
       " '7.21',\n",
       " '7.03',\n",
       " '6.92',\n",
       " '6.81',\n",
       " '6.49']"
      ]
     },
     "execution_count": 30,
     "metadata": {},
     "output_type": "execute_result"
    }
   ],
   "source": [
    "point = [soup.find_all('td','point')[inx].string for inx in range(0, 49)]\n",
    "point"
   ]
  },
  {
   "cell_type": "code",
   "execution_count": 39,
   "metadata": {},
   "outputs": [
    {
     "data": {
      "text/plain": [
       "DatetimeIndex(['2018-04-01', '2018-04-02', '2018-04-03', '2018-04-04',\n",
       "               '2018-04-05', '2018-04-06', '2018-04-07', '2018-04-08',\n",
       "               '2018-04-09', '2018-04-10', '2018-04-11', '2018-04-12',\n",
       "               '2018-04-13', '2018-04-14', '2018-04-15', '2018-04-16',\n",
       "               '2018-04-17', '2018-04-18', '2018-04-19', '2018-04-20',\n",
       "               '2018-04-21', '2018-04-22', '2018-04-23', '2018-04-24',\n",
       "               '2018-04-25', '2018-04-26', '2018-04-27', '2018-04-28'],\n",
       "              dtype='datetime64[ns]', freq='D')"
      ]
     },
     "execution_count": 39,
     "metadata": {},
     "output_type": "execute_result"
    }
   ],
   "source": [
    "date = pd.date_range('2018-04-01', periods = 28, freq='D')\n",
    "date"
   ]
  },
  {
   "cell_type": "code",
   "execution_count": 53,
   "metadata": {},
   "outputs": [
    {
     "name": "stdout",
     "output_type": "stream",
     "text": [
      "[<td class=\"point\">9.40</td>, <td class=\"point\">9.38</td>, <td class=\"point\">9.37</td>, <td class=\"point\">9.28</td>, <td class=\"point\">9.22</td>, <td class=\"point\">9.19</td>, <td class=\"point\">9.18</td>, <td class=\"point\">9.17</td>, <td class=\"point\">9.06</td>, <td class=\"point\">9.03</td>, <td class=\"point\">9.02</td>, <td class=\"point\">8.93</td>, <td class=\"point\">8.89</td>, <td class=\"point\">8.84</td>, <td class=\"point\">8.84</td>, <td class=\"point\">8.80</td>, <td class=\"point\">8.80</td>, <td class=\"point\">8.76</td>, <td class=\"point\">8.76</td>, <td class=\"point\">8.59</td>, <td class=\"point\">8.53</td>, <td class=\"point\">8.50</td>, <td class=\"point\">8.46</td>, <td class=\"point\">8.43</td>, <td class=\"point\">8.32</td>, <td class=\"point\">8.31</td>, <td class=\"point\">8.20</td>, <td class=\"point\">8.12</td>, <td class=\"point\">8.08</td>, <td class=\"point\">7.93</td>, <td class=\"point\">7.89</td>, <td class=\"point\">7.76</td>, <td class=\"point\">7.56</td>, <td class=\"point\">7.45</td>, <td class=\"point\">7.33</td>, <td class=\"point\">7.31</td>, <td class=\"point\">7.31</td>, <td class=\"point\">7.23</td>, <td class=\"point\">7.13</td>, <td class=\"point\">6.66</td>, <td class=\"point\">6.50</td>, <td class=\"point\">6.20</td>, <td class=\"point\">6.17</td>, <td class=\"point\">5.47</td>, <td class=\"point\">5.05</td>, <td class=\"point\">3.93</td>, <td class=\"point\">3.58</td>, <td class=\"point\">2.62</td>]\n",
      "[<td class=\"point\">9.40</td>, <td class=\"point\">9.38</td>, <td class=\"point\">9.37</td>, <td class=\"point\">9.28</td>, <td class=\"point\">9.19</td>, <td class=\"point\">9.05</td>, <td class=\"point\">9.02</td>, <td class=\"point\">9.02</td>, <td class=\"point\">8.94</td>, <td class=\"point\">8.89</td>, <td class=\"point\">8.84</td>, <td class=\"point\">8.83</td>, <td class=\"point\">8.80</td>, <td class=\"point\">8.80</td>, <td class=\"point\">8.77</td>, <td class=\"point\">8.76</td>, <td class=\"point\">8.59</td>, <td class=\"point\">8.53</td>, <td class=\"point\">8.49</td>, <td class=\"point\">8.46</td>, <td class=\"point\">8.43</td>, <td class=\"point\">8.32</td>, <td class=\"point\">8.30</td>, <td class=\"point\">8.20</td>, <td class=\"point\">8.12</td>, <td class=\"point\">8.08</td>, <td class=\"point\">7.93</td>, <td class=\"point\">7.89</td>, <td class=\"point\">7.76</td>, <td class=\"point\">7.56</td>, <td class=\"point\">7.44</td>, <td class=\"point\">7.33</td>, <td class=\"point\">7.29</td>, <td class=\"point\">7.27</td>, <td class=\"point\">7.23</td>, <td class=\"point\">7.13</td>, <td class=\"point\">6.66</td>, <td class=\"point\">6.57</td>, <td class=\"point\">6.25</td>, <td class=\"point\">6.17</td>, <td class=\"point\">6.17</td>, <td class=\"point\">5.45</td>, <td class=\"point\">5.05</td>, <td class=\"point\">3.95</td>, <td class=\"point\">3.58</td>, <td class=\"point\">2.62</td>]\n",
      "[<td class=\"point\">9.40</td>, <td class=\"point\">9.38</td>, <td class=\"point\">9.37</td>, <td class=\"point\">9.28</td>, <td class=\"point\">9.22</td>, <td class=\"point\">9.19</td>, <td class=\"point\">9.13</td>, <td class=\"point\">9.04</td>, <td class=\"point\">9.03</td>, <td class=\"point\">9.02</td>, <td class=\"point\">8.94</td>, <td class=\"point\">8.92</td>, <td class=\"point\">8.89</td>, <td class=\"point\">8.84</td>, <td class=\"point\">8.81</td>, <td class=\"point\">8.80</td>, <td class=\"point\">8.80</td>, <td class=\"point\">8.76</td>, <td class=\"point\">8.76</td>, <td class=\"point\">8.53</td>, <td class=\"point\">8.53</td>, <td class=\"point\">8.49</td>, <td class=\"point\">8.46</td>, <td class=\"point\">8.43</td>, <td class=\"point\">8.32</td>, <td class=\"point\">8.30</td>, <td class=\"point\">8.20</td>, <td class=\"point\">8.12</td>, <td class=\"point\">8.09</td>, <td class=\"point\">7.93</td>, <td class=\"point\">7.89</td>, <td class=\"point\">7.76</td>, <td class=\"point\">7.56</td>, <td class=\"point\">7.44</td>, <td class=\"point\">7.33</td>, <td class=\"point\">7.28</td>, <td class=\"point\">7.23</td>, <td class=\"point\">7.23</td>, <td class=\"point\">7.13</td>, <td class=\"point\">6.65</td>, <td class=\"point\">6.61</td>, <td class=\"point\">6.25</td>, <td class=\"point\">6.18</td>, <td class=\"point\">6.11</td>, <td class=\"point\">5.43</td>, <td class=\"point\">5.05</td>, <td class=\"point\">3.94</td>, <td class=\"point\">3.59</td>, <td class=\"point\">2.61</td>]\n",
      "[<td class=\"point\">9.40</td>, <td class=\"point\">9.38</td>, <td class=\"point\">9.37</td>, <td class=\"point\">9.28</td>, <td class=\"point\">9.22</td>, <td class=\"point\">9.19</td>, <td class=\"point\">9.18</td>, <td class=\"point\">9.04</td>, <td class=\"point\">9.03</td>, <td class=\"point\">9.02</td>, <td class=\"point\">8.94</td>, <td class=\"point\">8.92</td>, <td class=\"point\">8.89</td>, <td class=\"point\">8.85</td>, <td class=\"point\">8.80</td>, <td class=\"point\">8.79</td>, <td class=\"point\">8.79</td>, <td class=\"point\">8.77</td>, <td class=\"point\">8.76</td>, <td class=\"point\">8.53</td>, <td class=\"point\">8.50</td>, <td class=\"point\">8.49</td>, <td class=\"point\">8.46</td>, <td class=\"point\">8.43</td>, <td class=\"point\">8.32</td>, <td class=\"point\">8.30</td>, <td class=\"point\">8.20</td>, <td class=\"point\">8.12</td>, <td class=\"point\">8.09</td>, <td class=\"point\">7.93</td>, <td class=\"point\">7.70</td>, <td class=\"point\">7.56</td>, <td class=\"point\">7.44</td>, <td class=\"point\">7.34</td>, <td class=\"point\">7.26</td>, <td class=\"point\">7.23</td>, <td class=\"point\">7.17</td>, <td class=\"point\">7.13</td>, <td class=\"point\">6.69</td>, <td class=\"point\">6.65</td>, <td class=\"point\">6.18</td>, <td class=\"point\">6.08</td>, <td class=\"point\">5.41</td>, <td class=\"point\">5.05</td>, <td class=\"point\">3.93</td>, <td class=\"point\">3.60</td>, <td class=\"point\">2.62</td>]\n",
      "[<td class=\"point\">9.41</td>, <td class=\"point\">9.38</td>, <td class=\"point\">9.28</td>, <td class=\"point\">9.22</td>, <td class=\"point\">9.19</td>, <td class=\"point\">9.18</td>, <td class=\"point\">9.04</td>, <td class=\"point\">9.04</td>, <td class=\"point\">9.02</td>, <td class=\"point\">8.94</td>, <td class=\"point\">8.92</td>, <td class=\"point\">8.89</td>, <td class=\"point\">8.83</td>, <td class=\"point\">8.81</td>, <td class=\"point\">8.79</td>, <td class=\"point\">8.78</td>, <td class=\"point\">8.76</td>, <td class=\"point\">8.75</td>, <td class=\"point\">8.53</td>, <td class=\"point\">8.50</td>, <td class=\"point\">8.49</td>, <td class=\"point\">8.47</td>, <td class=\"point\">8.43</td>, <td class=\"point\">8.32</td>, <td class=\"point\">8.30</td>, <td class=\"point\">8.20</td>, <td class=\"point\">8.09</td>, <td class=\"point\">7.94</td>, <td class=\"point\">7.93</td>, <td class=\"point\">7.56</td>, <td class=\"point\">7.44</td>, <td class=\"point\">7.34</td>, <td class=\"point\">7.26</td>, <td class=\"point\">7.14</td>, <td class=\"point\">7.13</td>, <td class=\"point\">6.75</td>, <td class=\"point\">6.06</td>, <td class=\"point\">5.05</td>, <td class=\"point\">3.92</td>, <td class=\"point\">3.62</td>, <td class=\"point\">2.62</td>]\n",
      "[<td class=\"point\">9.41</td>, <td class=\"point\">9.38</td>, <td class=\"point\">9.28</td>, <td class=\"point\">9.24</td>, <td class=\"point\">9.22</td>, <td class=\"point\">9.19</td>, <td class=\"point\">9.18</td>, <td class=\"point\">9.05</td>, <td class=\"point\">9.04</td>, <td class=\"point\">9.02</td>, <td class=\"point\">8.94</td>, <td class=\"point\">8.92</td>, <td class=\"point\">8.89</td>, <td class=\"point\">8.83</td>, <td class=\"point\">8.81</td>, <td class=\"point\">8.78</td>, <td class=\"point\">8.77</td>, <td class=\"point\">8.76</td>, <td class=\"point\">8.75</td>, <td class=\"point\">8.71</td>, <td class=\"point\">8.53</td>, <td class=\"point\">8.51</td>, <td class=\"point\">8.47</td>, <td class=\"point\">8.47</td>, <td class=\"point\">8.43</td>, <td class=\"point\">8.32</td>, <td class=\"point\">8.31</td>, <td class=\"point\">8.20</td>, <td class=\"point\">8.08</td>, <td class=\"point\">7.93</td>, <td class=\"point\">7.69</td>, <td class=\"point\">7.56</td>, <td class=\"point\">7.44</td>, <td class=\"point\">7.34</td>, <td class=\"point\">7.26</td>, <td class=\"point\">7.13</td>, <td class=\"point\">7.09</td>, <td class=\"point\">6.78</td>, <td class=\"point\">6.05</td>, <td class=\"point\">5.04</td>, <td class=\"point\">3.92</td>, <td class=\"point\">3.64</td>, <td class=\"point\">2.62</td>]\n",
      "[<td class=\"point\">9.55</td>, <td class=\"point\">9.38</td>, <td class=\"point\">9.28</td>, <td class=\"point\">9.24</td>, <td class=\"point\">9.22</td>, <td class=\"point\">9.19</td>, <td class=\"point\">9.18</td>, <td class=\"point\">9.07</td>, <td class=\"point\">9.04</td>, <td class=\"point\">9.02</td>, <td class=\"point\">8.93</td>, <td class=\"point\">8.92</td>, <td class=\"point\">8.89</td>, <td class=\"point\">8.83</td>, <td class=\"point\">8.81</td>, <td class=\"point\">8.78</td>, <td class=\"point\">8.76</td>, <td class=\"point\">8.76</td>, <td class=\"point\">8.75</td>, <td class=\"point\">8.71</td>, <td class=\"point\">8.53</td>, <td class=\"point\">8.51</td>, <td class=\"point\">8.47</td>, <td class=\"point\">8.45</td>, <td class=\"point\">8.43</td>, <td class=\"point\">8.32</td>, <td class=\"point\">8.31</td>, <td class=\"point\">8.20</td>, <td class=\"point\">8.08</td>, <td class=\"point\">7.93</td>, <td class=\"point\">7.89</td>, <td class=\"point\">7.56</td>, <td class=\"point\">7.44</td>, <td class=\"point\">7.34</td>, <td class=\"point\">7.26</td>, <td class=\"point\">7.13</td>, <td class=\"point\">7.06</td>, <td class=\"point\">7.04</td>, <td class=\"point\">6.83</td>, <td class=\"point\">6.03</td>, <td class=\"point\">5.04</td>, <td class=\"point\">3.92</td>, <td class=\"point\">3.70</td>, <td class=\"point\">2.63</td>]\n",
      "[<td class=\"point\">9.58</td>, <td class=\"point\">9.38</td>, <td class=\"point\">9.28</td>, <td class=\"point\">9.24</td>, <td class=\"point\">9.23</td>, <td class=\"point\">9.19</td>, <td class=\"point\">9.18</td>, <td class=\"point\">9.07</td>, <td class=\"point\">9.04</td>, <td class=\"point\">9.02</td>, <td class=\"point\">8.93</td>, <td class=\"point\">8.92</td>, <td class=\"point\">8.89</td>, <td class=\"point\">8.83</td>, <td class=\"point\">8.81</td>, <td class=\"point\">8.78</td>, <td class=\"point\">8.77</td>, <td class=\"point\">8.76</td>, <td class=\"point\">8.73</td>, <td class=\"point\">8.71</td>, <td class=\"point\">8.53</td>, <td class=\"point\">8.52</td>, <td class=\"point\">8.50</td>, <td class=\"point\">8.47</td>, <td class=\"point\">8.43</td>, <td class=\"point\">8.43</td>, <td class=\"point\">8.32</td>, <td class=\"point\">8.30</td>, <td class=\"point\">8.20</td>, <td class=\"point\">8.08</td>, <td class=\"point\">7.93</td>, <td class=\"point\">7.56</td>, <td class=\"point\">7.43</td>, <td class=\"point\">7.34</td>, <td class=\"point\">7.25</td>, <td class=\"point\">7.13</td>, <td class=\"point\">6.96</td>, <td class=\"point\">6.88</td>, <td class=\"point\">6.83</td>, <td class=\"point\">6.72</td>, <td class=\"point\">6.64</td>, <td class=\"point\">5.99</td>, <td class=\"point\">5.04</td>, <td class=\"point\">3.90</td>, <td class=\"point\">3.70</td>, <td class=\"point\">2.63</td>]\n"
     ]
    },
    {
     "name": "stdout",
     "output_type": "stream",
     "text": [
      "[<td class=\"point\">9.60</td>, <td class=\"point\">9.38</td>, <td class=\"point\">9.28</td>, <td class=\"point\">9.25</td>, <td class=\"point\">9.24</td>, <td class=\"point\">9.19</td>, <td class=\"point\">9.17</td>, <td class=\"point\">9.08</td>, <td class=\"point\">9.06</td>, <td class=\"point\">9.04</td>, <td class=\"point\">9.02</td>, <td class=\"point\">8.93</td>, <td class=\"point\">8.92</td>, <td class=\"point\">8.92</td>, <td class=\"point\">8.83</td>, <td class=\"point\">8.81</td>, <td class=\"point\">8.77</td>, <td class=\"point\">8.77</td>, <td class=\"point\">8.74</td>, <td class=\"point\">8.71</td>, <td class=\"point\">8.71</td>, <td class=\"point\">8.53</td>, <td class=\"point\">8.51</td>, <td class=\"point\">8.48</td>, <td class=\"point\">8.47</td>, <td class=\"point\">8.44</td>, <td class=\"point\">8.43</td>, <td class=\"point\">8.30</td>, <td class=\"point\">8.20</td>, <td class=\"point\">8.08</td>, <td class=\"point\">7.93</td>, <td class=\"point\">7.56</td>, <td class=\"point\">7.43</td>, <td class=\"point\">7.34</td>, <td class=\"point\">7.25</td>, <td class=\"point\">7.12</td>, <td class=\"point\">6.92</td>, <td class=\"point\">6.91</td>, <td class=\"point\">6.90</td>, <td class=\"point\">6.74</td>, <td class=\"point\">6.64</td>, <td class=\"point\">5.96</td>, <td class=\"point\">5.40</td>, <td class=\"point\">5.04</td>, <td class=\"point\">3.90</td>, <td class=\"point\">3.71</td>, <td class=\"point\">2.63</td>]\n",
      "[<td class=\"point\">9.61</td>, <td class=\"point\">9.38</td>, <td class=\"point\">9.28</td>, <td class=\"point\">9.25</td>, <td class=\"point\">9.24</td>, <td class=\"point\">9.22</td>, <td class=\"point\">9.19</td>, <td class=\"point\">9.18</td>, <td class=\"point\">9.08</td>, <td class=\"point\">9.06</td>, <td class=\"point\">9.04</td>, <td class=\"point\">9.02</td>, <td class=\"point\">8.93</td>, <td class=\"point\">8.93</td>, <td class=\"point\">8.92</td>, <td class=\"point\">8.82</td>, <td class=\"point\">8.81</td>, <td class=\"point\">8.77</td>, <td class=\"point\">8.77</td>, <td class=\"point\">8.74</td>, <td class=\"point\">8.71</td>, <td class=\"point\">8.70</td>, <td class=\"point\">8.53</td>, <td class=\"point\">8.51</td>, <td class=\"point\">8.49</td>, <td class=\"point\">8.47</td>, <td class=\"point\">8.44</td>, <td class=\"point\">8.42</td>, <td class=\"point\">8.31</td>, <td class=\"point\">8.20</td>, <td class=\"point\">8.08</td>, <td class=\"point\">7.93</td>, <td class=\"point\">7.56</td>, <td class=\"point\">7.43</td>, <td class=\"point\">7.34</td>, <td class=\"point\">7.25</td>, <td class=\"point\">7.12</td>, <td class=\"point\">7.03</td>, <td class=\"point\">6.92</td>, <td class=\"point\">6.88</td>, <td class=\"point\">6.86</td>, <td class=\"point\">6.64</td>, <td class=\"point\">5.96</td>, <td class=\"point\">5.04</td>, <td class=\"point\">3.90</td>, <td class=\"point\">2.64</td>]\n",
      "[<td class=\"point\">9.60</td>, <td class=\"point\">9.38</td>, <td class=\"point\">9.28</td>, <td class=\"point\">9.25</td>, <td class=\"point\">9.24</td>, <td class=\"point\">9.19</td>, <td class=\"point\">9.18</td>, <td class=\"point\">9.09</td>, <td class=\"point\">9.06</td>, <td class=\"point\">9.04</td>, <td class=\"point\">9.02</td>, <td class=\"point\">8.93</td>, <td class=\"point\">8.93</td>, <td class=\"point\">8.81</td>, <td class=\"point\">8.77</td>, <td class=\"point\">8.77</td>, <td class=\"point\">8.74</td>, <td class=\"point\">8.74</td>, <td class=\"point\">8.69</td>, <td class=\"point\">8.53</td>, <td class=\"point\">8.52</td>, <td class=\"point\">8.49</td>, <td class=\"point\">8.49</td>, <td class=\"point\">8.48</td>, <td class=\"point\">8.44</td>, <td class=\"point\">8.42</td>, <td class=\"point\">8.30</td>, <td class=\"point\">8.20</td>, <td class=\"point\">7.93</td>, <td class=\"point\">7.56</td>, <td class=\"point\">7.43</td>, <td class=\"point\">7.35</td>, <td class=\"point\">7.24</td>, <td class=\"point\">7.12</td>, <td class=\"point\">7.12</td>, <td class=\"point\">6.97</td>, <td class=\"point\">6.88</td>, <td class=\"point\">6.79</td>, <td class=\"point\">6.63</td>, <td class=\"point\">5.90</td>, <td class=\"point\">5.38</td>, <td class=\"point\">3.89</td>, <td class=\"point\">2.64</td>]\n",
      "[<td class=\"point\">9.60</td>, <td class=\"point\">9.38</td>, <td class=\"point\">9.28</td>, <td class=\"point\">9.25</td>, <td class=\"point\">9.24</td>, <td class=\"point\">9.23</td>, <td class=\"point\">9.19</td>, <td class=\"point\">9.18</td>, <td class=\"point\">9.09</td>, <td class=\"point\">9.06</td>, <td class=\"point\">9.04</td>, <td class=\"point\">9.02</td>, <td class=\"point\">8.93</td>, <td class=\"point\">8.92</td>, <td class=\"point\">8.82</td>, <td class=\"point\">8.81</td>, <td class=\"point\">8.77</td>, <td class=\"point\">8.77</td>, <td class=\"point\">8.74</td>, <td class=\"point\">8.68</td>, <td class=\"point\">8.68</td>, <td class=\"point\">8.60</td>, <td class=\"point\">8.53</td>, <td class=\"point\">8.52</td>, <td class=\"point\">8.50</td>, <td class=\"point\">8.50</td>, <td class=\"point\">8.48</td>, <td class=\"point\">8.43</td>, <td class=\"point\">8.42</td>, <td class=\"point\">8.40</td>, <td class=\"point\">8.30</td>, <td class=\"point\">8.21</td>, <td class=\"point\">8.19</td>, <td class=\"point\">7.93</td>, <td class=\"point\">7.56</td>, <td class=\"point\">7.43</td>, <td class=\"point\">7.35</td>, <td class=\"point\">7.24</td>, <td class=\"point\">7.19</td>, <td class=\"point\">7.10</td>, <td class=\"point\">6.98</td>, <td class=\"point\">6.86</td>, <td class=\"point\">6.70</td>, <td class=\"point\">5.76</td>, <td class=\"point\">5.38</td>, <td class=\"point\">2.64</td>]\n",
      "[<td class=\"point\">9.60</td>, <td class=\"point\">9.38</td>, <td class=\"point\">9.28</td>, <td class=\"point\">9.25</td>, <td class=\"point\">9.24</td>, <td class=\"point\">9.23</td>, <td class=\"point\">9.19</td>, <td class=\"point\">9.18</td>, <td class=\"point\">9.09</td>, <td class=\"point\">9.06</td>, <td class=\"point\">9.04</td>, <td class=\"point\">9.02</td>, <td class=\"point\">8.96</td>, <td class=\"point\">8.93</td>, <td class=\"point\">8.92</td>, <td class=\"point\">8.82</td>, <td class=\"point\">8.81</td>, <td class=\"point\">8.77</td>, <td class=\"point\">8.76</td>, <td class=\"point\">8.74</td>, <td class=\"point\">8.69</td>, <td class=\"point\">8.68</td>, <td class=\"point\">8.65</td>, <td class=\"point\">8.64</td>, <td class=\"point\">8.53</td>, <td class=\"point\">8.51</td>, <td class=\"point\">8.50</td>, <td class=\"point\">8.49</td>, <td class=\"point\">8.49</td>, <td class=\"point\">8.48</td>, <td class=\"point\">8.43</td>, <td class=\"point\">8.42</td>, <td class=\"point\">8.30</td>, <td class=\"point\">8.21</td>, <td class=\"point\">7.93</td>, <td class=\"point\">7.56</td>, <td class=\"point\">7.43</td>, <td class=\"point\">7.35</td>, <td class=\"point\">7.24</td>, <td class=\"point\">7.23</td>, <td class=\"point\">7.17</td>, <td class=\"point\">7.10</td>, <td class=\"point\">7.00</td>, <td class=\"point\">6.86</td>, <td class=\"point\">6.65</td>, <td class=\"point\">5.69</td>, <td class=\"point\">2.65</td>]\n",
      "[<td class=\"point\">9.61</td>, <td class=\"point\">9.38</td>, <td class=\"point\">9.28</td>, <td class=\"point\">9.25</td>, <td class=\"point\">9.24</td>, <td class=\"point\">9.23</td>, <td class=\"point\">9.19</td>, <td class=\"point\">9.18</td>, <td class=\"point\">9.11</td>, <td class=\"point\">9.09</td>, <td class=\"point\">9.06</td>, <td class=\"point\">9.04</td>, <td class=\"point\">9.02</td>, <td class=\"point\">8.93</td>, <td class=\"point\">8.92</td>, <td class=\"point\">8.82</td>, <td class=\"point\">8.81</td>, <td class=\"point\">8.77</td>, <td class=\"point\">8.76</td>, <td class=\"point\">8.74</td>, <td class=\"point\">8.66</td>, <td class=\"point\">8.64</td>, <td class=\"point\">8.63</td>, <td class=\"point\">8.60</td>, <td class=\"point\">8.53</td>, <td class=\"point\">8.51</td>, <td class=\"point\">8.51</td>, <td class=\"point\">8.49</td>, <td class=\"point\">8.48</td>, <td class=\"point\">8.46</td>, <td class=\"point\">8.43</td>, <td class=\"point\">8.42</td>, <td class=\"point\">8.30</td>, <td class=\"point\">8.21</td>, <td class=\"point\">7.93</td>, <td class=\"point\">7.56</td>, <td class=\"point\">7.43</td>, <td class=\"point\">7.34</td>, <td class=\"point\">7.28</td>, <td class=\"point\">7.24</td>, <td class=\"point\">7.17</td>, <td class=\"point\">7.07</td>, <td class=\"point\">7.02</td>, <td class=\"point\">6.84</td>, <td class=\"point\">6.63</td>, <td class=\"point\">6.60</td>, <td class=\"point\">5.62</td>, <td class=\"point\">2.65</td>]\n",
      "[<td class=\"point\">9.60</td>, <td class=\"point\">9.38</td>, <td class=\"point\">9.28</td>, <td class=\"point\">9.25</td>, <td class=\"point\">9.24</td>, <td class=\"point\">9.23</td>, <td class=\"point\">9.19</td>, <td class=\"point\">9.19</td>, <td class=\"point\">9.18</td>, <td class=\"point\">9.09</td>, <td class=\"point\">9.06</td>, <td class=\"point\">9.04</td>, <td class=\"point\">9.02</td>, <td class=\"point\">8.93</td>, <td class=\"point\">8.92</td>, <td class=\"point\">8.83</td>, <td class=\"point\">8.81</td>, <td class=\"point\">8.77</td>, <td class=\"point\">8.76</td>, <td class=\"point\">8.74</td>, <td class=\"point\">8.66</td>, <td class=\"point\">8.65</td>, <td class=\"point\">8.64</td>, <td class=\"point\">8.60</td>, <td class=\"point\">8.53</td>, <td class=\"point\">8.52</td>, <td class=\"point\">8.52</td>, <td class=\"point\">8.48</td>, <td class=\"point\">8.46</td>, <td class=\"point\">8.45</td>, <td class=\"point\">8.43</td>, <td class=\"point\">8.42</td>, <td class=\"point\">8.30</td>, <td class=\"point\">8.21</td>, <td class=\"point\">7.93</td>, <td class=\"point\">7.56</td>, <td class=\"point\">7.42</td>, <td class=\"point\">7.34</td>, <td class=\"point\">7.33</td>, <td class=\"point\">7.24</td>, <td class=\"point\">7.22</td>, <td class=\"point\">7.17</td>, <td class=\"point\">7.06</td>, <td class=\"point\">7.03</td>, <td class=\"point\">6.83</td>, <td class=\"point\">6.63</td>, <td class=\"point\">6.56</td>, <td class=\"point\">5.58</td>, <td class=\"point\">2.65</td>]\n",
      "[<td class=\"point\">9.59</td>, <td class=\"point\">9.38</td>, <td class=\"point\">9.28</td>, <td class=\"point\">9.25</td>, <td class=\"point\">9.24</td>, <td class=\"point\">9.23</td>, <td class=\"point\">9.21</td>, <td class=\"point\">9.19</td>, <td class=\"point\">9.18</td>, <td class=\"point\">9.10</td>, <td class=\"point\">9.06</td>, <td class=\"point\">9.04</td>, <td class=\"point\">9.02</td>, <td class=\"point\">8.93</td>, <td class=\"point\">8.92</td>, <td class=\"point\">8.83</td>, <td class=\"point\">8.81</td>, <td class=\"point\">8.77</td>, <td class=\"point\">8.77</td>, <td class=\"point\">8.76</td>, <td class=\"point\">8.73</td>, <td class=\"point\">8.65</td>, <td class=\"point\">8.64</td>, <td class=\"point\">8.64</td>, <td class=\"point\">8.58</td>, <td class=\"point\">8.54</td>, <td class=\"point\">8.53</td>, <td class=\"point\">8.53</td>, <td class=\"point\">8.48</td>, <td class=\"point\">8.45</td>, <td class=\"point\">8.43</td>, <td class=\"point\">8.42</td>, <td class=\"point\">8.42</td>, <td class=\"point\">8.31</td>, <td class=\"point\">8.21</td>, <td class=\"point\">7.93</td>, <td class=\"point\">7.56</td>, <td class=\"point\">7.42</td>, <td class=\"point\">7.37</td>, <td class=\"point\">7.33</td>, <td class=\"point\">7.24</td>, <td class=\"point\">7.17</td>, <td class=\"point\">7.10</td>, <td class=\"point\">7.06</td>, <td class=\"point\">7.05</td>, <td class=\"point\">6.81</td>, <td class=\"point\">6.63</td>, <td class=\"point\">6.53</td>, <td class=\"point\">5.56</td>, <td class=\"point\">2.65</td>]\n"
     ]
    },
    {
     "name": "stdout",
     "output_type": "stream",
     "text": [
      "[<td class=\"point\">9.57</td>, <td class=\"point\">9.38</td>, <td class=\"point\">9.28</td>, <td class=\"point\">9.25</td>, <td class=\"point\">9.24</td>, <td class=\"point\">9.23</td>, <td class=\"point\">9.21</td>, <td class=\"point\">9.19</td>, <td class=\"point\">9.18</td>, <td class=\"point\">9.18</td>, <td class=\"point\">9.06</td>, <td class=\"point\">9.06</td>, <td class=\"point\">9.04</td>, <td class=\"point\">9.02</td>, <td class=\"point\">8.93</td>, <td class=\"point\">8.92</td>, <td class=\"point\">8.83</td>, <td class=\"point\">8.81</td>, <td class=\"point\">8.77</td>, <td class=\"point\">8.76</td>, <td class=\"point\">8.75</td>, <td class=\"point\">8.73</td>, <td class=\"point\">8.65</td>, <td class=\"point\">8.64</td>, <td class=\"point\">8.60</td>, <td class=\"point\">8.57</td>, <td class=\"point\">8.55</td>, <td class=\"point\">8.54</td>, <td class=\"point\">8.54</td>, <td class=\"point\">8.52</td>, <td class=\"point\">8.48</td>, <td class=\"point\">8.45</td>, <td class=\"point\">8.42</td>, <td class=\"point\">8.42</td>, <td class=\"point\">8.37</td>, <td class=\"point\">8.31</td>, <td class=\"point\">8.21</td>, <td class=\"point\">8.15</td>, <td class=\"point\">7.93</td>, <td class=\"point\">7.90</td>, <td class=\"point\">7.56</td>, <td class=\"point\">7.42</td>, <td class=\"point\">7.39</td>, <td class=\"point\">7.33</td>, <td class=\"point\">7.24</td>, <td class=\"point\">7.17</td>, <td class=\"point\">7.07</td>, <td class=\"point\">7.06</td>, <td class=\"point\">6.96</td>, <td class=\"point\">6.81</td>]\n",
      "[<td class=\"point\">9.57</td>, <td class=\"point\">9.38</td>, <td class=\"point\">9.35</td>, <td class=\"point\">9.28</td>, <td class=\"point\">9.25</td>, <td class=\"point\">9.24</td>, <td class=\"point\">9.20</td>, <td class=\"point\">9.19</td>, <td class=\"point\">9.19</td>, <td class=\"point\">9.18</td>, <td class=\"point\">9.06</td>, <td class=\"point\">9.06</td>, <td class=\"point\">9.04</td>, <td class=\"point\">9.02</td>, <td class=\"point\">8.93</td>, <td class=\"point\">8.83</td>, <td class=\"point\">8.81</td>, <td class=\"point\">8.77</td>, <td class=\"point\">8.76</td>, <td class=\"point\">8.75</td>, <td class=\"point\">8.73</td>, <td class=\"point\">8.65</td>, <td class=\"point\">8.59</td>, <td class=\"point\">8.56</td>, <td class=\"point\">8.54</td>, <td class=\"point\">8.54</td>, <td class=\"point\">8.53</td>, <td class=\"point\">8.53</td>, <td class=\"point\">8.48</td>, <td class=\"point\">8.46</td>, <td class=\"point\">8.43</td>, <td class=\"point\">8.42</td>, <td class=\"point\">8.36</td>, <td class=\"point\">8.30</td>, <td class=\"point\">8.22</td>, <td class=\"point\">8.15</td>, <td class=\"point\">7.93</td>, <td class=\"point\">7.90</td>, <td class=\"point\">7.56</td>, <td class=\"point\">7.42</td>, <td class=\"point\">7.42</td>, <td class=\"point\">7.33</td>, <td class=\"point\">7.22</td>, <td class=\"point\">7.17</td>, <td class=\"point\">7.08</td>, <td class=\"point\">7.06</td>, <td class=\"point\">6.96</td>, <td class=\"point\">6.81</td>, <td class=\"point\">6.63</td>, <td class=\"point\">6.48</td>]\n",
      "[<td class=\"point\">9.57</td>, <td class=\"point\">9.38</td>, <td class=\"point\">9.35</td>, <td class=\"point\">9.33</td>, <td class=\"point\">9.28</td>, <td class=\"point\">9.23</td>, <td class=\"point\">9.23</td>, <td class=\"point\">9.20</td>, <td class=\"point\">9.19</td>, <td class=\"point\">9.19</td>, <td class=\"point\">9.18</td>, <td class=\"point\">9.18</td>, <td class=\"point\">9.17</td>, <td class=\"point\">9.06</td>, <td class=\"point\">9.04</td>, <td class=\"point\">9.03</td>, <td class=\"point\">9.02</td>, <td class=\"point\">8.93</td>, <td class=\"point\">8.83</td>, <td class=\"point\">8.82</td>, <td class=\"point\">8.77</td>, <td class=\"point\">8.76</td>, <td class=\"point\">8.75</td>, <td class=\"point\">8.73</td>, <td class=\"point\">8.65</td>, <td class=\"point\">8.57</td>, <td class=\"point\">8.56</td>, <td class=\"point\">8.54</td>, <td class=\"point\">8.54</td>, <td class=\"point\">8.54</td>, <td class=\"point\">8.53</td>, <td class=\"point\">8.50</td>, <td class=\"point\">8.48</td>, <td class=\"point\">8.44</td>, <td class=\"point\">8.43</td>, <td class=\"point\">8.42</td>, <td class=\"point\">8.35</td>, <td class=\"point\">8.30</td>, <td class=\"point\">8.21</td>, <td class=\"point\">8.15</td>, <td class=\"point\">7.93</td>, <td class=\"point\">7.93</td>, <td class=\"point\">7.90</td>, <td class=\"point\">7.89</td>, <td class=\"point\">7.56</td>, <td class=\"point\">7.46</td>, <td class=\"point\">7.33</td>, <td class=\"point\">7.16</td>, <td class=\"point\">7.10</td>, <td class=\"point\">7.05</td>]\n",
      "[<td class=\"point\">9.57</td>, <td class=\"point\">9.40</td>, <td class=\"point\">9.38</td>, <td class=\"point\">9.35</td>, <td class=\"point\">9.33</td>, <td class=\"point\">9.28</td>, <td class=\"point\">9.23</td>, <td class=\"point\">9.23</td>, <td class=\"point\">9.22</td>, <td class=\"point\">9.20</td>, <td class=\"point\">9.19</td>, <td class=\"point\">9.19</td>, <td class=\"point\">9.18</td>, <td class=\"point\">9.18</td>, <td class=\"point\">9.18</td>, <td class=\"point\">9.17</td>, <td class=\"point\">9.06</td>, <td class=\"point\">9.04</td>, <td class=\"point\">9.04</td>, <td class=\"point\">9.02</td>, <td class=\"point\">8.96</td>, <td class=\"point\">8.93</td>, <td class=\"point\">8.93</td>, <td class=\"point\">8.83</td>, <td class=\"point\">8.82</td>, <td class=\"point\">8.77</td>, <td class=\"point\">8.76</td>, <td class=\"point\">8.74</td>, <td class=\"point\">8.65</td>, <td class=\"point\">8.58</td>, <td class=\"point\">8.54</td>, <td class=\"point\">8.54</td>, <td class=\"point\">8.54</td>, <td class=\"point\">8.54</td>, <td class=\"point\">8.54</td>, <td class=\"point\">8.53</td>, <td class=\"point\">8.51</td>, <td class=\"point\">8.50</td>, <td class=\"point\">8.48</td>, <td class=\"point\">8.44</td>, <td class=\"point\">8.43</td>, <td class=\"point\">8.42</td>, <td class=\"point\">8.41</td>, <td class=\"point\">8.33</td>, <td class=\"point\">8.30</td>, <td class=\"point\">8.21</td>, <td class=\"point\">8.15</td>, <td class=\"point\">7.93</td>, <td class=\"point\">7.93</td>, <td class=\"point\">7.90</td>]\n",
      "[<td class=\"point\">9.57</td>, <td class=\"point\">9.40</td>, <td class=\"point\">9.38</td>, <td class=\"point\">9.35</td>, <td class=\"point\">9.33</td>, <td class=\"point\">9.25</td>, <td class=\"point\">9.23</td>, <td class=\"point\">9.23</td>, <td class=\"point\">9.22</td>, <td class=\"point\">9.20</td>, <td class=\"point\">9.19</td>, <td class=\"point\">9.18</td>, <td class=\"point\">9.18</td>, <td class=\"point\">9.17</td>, <td class=\"point\">9.17</td>, <td class=\"point\">9.06</td>, <td class=\"point\">9.04</td>, <td class=\"point\">9.02</td>, <td class=\"point\">9.01</td>, <td class=\"point\">8.96</td>, <td class=\"point\">8.93</td>, <td class=\"point\">8.93</td>, <td class=\"point\">8.83</td>, <td class=\"point\">8.82</td>, <td class=\"point\">8.77</td>, <td class=\"point\">8.76</td>, <td class=\"point\">8.64</td>, <td class=\"point\">8.59</td>, <td class=\"point\">8.54</td>, <td class=\"point\">8.54</td>, <td class=\"point\">8.54</td>, <td class=\"point\">8.54</td>, <td class=\"point\">8.54</td>, <td class=\"point\">8.53</td>, <td class=\"point\">8.50</td>, <td class=\"point\">8.49</td>, <td class=\"point\">8.48</td>, <td class=\"point\">8.45</td>, <td class=\"point\">8.43</td>, <td class=\"point\">8.41</td>, <td class=\"point\">8.41</td>, <td class=\"point\">8.31</td>, <td class=\"point\">8.30</td>, <td class=\"point\">8.21</td>, <td class=\"point\">7.93</td>, <td class=\"point\">7.93</td>, <td class=\"point\">7.90</td>, <td class=\"point\">7.89</td>, <td class=\"point\">7.57</td>, <td class=\"point\">7.56</td>]\n",
      "[<td class=\"point\">9.57</td>, <td class=\"point\">9.40</td>, <td class=\"point\">9.38</td>, <td class=\"point\">9.35</td>, <td class=\"point\">9.33</td>, <td class=\"point\">9.25</td>, <td class=\"point\">9.23</td>, <td class=\"point\">9.23</td>, <td class=\"point\">9.22</td>, <td class=\"point\">9.20</td>, <td class=\"point\">9.19</td>, <td class=\"point\">9.18</td>, <td class=\"point\">9.17</td>, <td class=\"point\">9.17</td>, <td class=\"point\">9.06</td>, <td class=\"point\">9.04</td>, <td class=\"point\">9.02</td>, <td class=\"point\">9.00</td>, <td class=\"point\">8.96</td>, <td class=\"point\">8.93</td>, <td class=\"point\">8.92</td>, <td class=\"point\">8.83</td>, <td class=\"point\">8.82</td>, <td class=\"point\">8.77</td>, <td class=\"point\">8.76</td>, <td class=\"point\">8.64</td>, <td class=\"point\">8.59</td>, <td class=\"point\">8.54</td>, <td class=\"point\">8.54</td>, <td class=\"point\">8.54</td>, <td class=\"point\">8.53</td>, <td class=\"point\">8.52</td>, <td class=\"point\">8.50</td>, <td class=\"point\">8.47</td>, <td class=\"point\">8.46</td>, <td class=\"point\">8.43</td>, <td class=\"point\">8.41</td>, <td class=\"point\">8.41</td>, <td class=\"point\">8.30</td>, <td class=\"point\">8.27</td>, <td class=\"point\">7.94</td>, <td class=\"point\">7.93</td>, <td class=\"point\">7.57</td>, <td class=\"point\">7.56</td>, <td class=\"point\">7.55</td>, <td class=\"point\">7.34</td>, <td class=\"point\">7.15</td>, <td class=\"point\">7.07</td>, <td class=\"point\">7.04</td>, <td class=\"point\">7.03</td>]\n",
      "[<td class=\"point\">9.57</td>, <td class=\"point\">9.40</td>, <td class=\"point\">9.38</td>, <td class=\"point\">9.35</td>, <td class=\"point\">9.33</td>, <td class=\"point\">9.25</td>, <td class=\"point\">9.23</td>, <td class=\"point\">9.23</td>, <td class=\"point\">9.22</td>, <td class=\"point\">9.19</td>, <td class=\"point\">9.17</td>, <td class=\"point\">9.06</td>, <td class=\"point\">9.05</td>, <td class=\"point\">9.02</td>, <td class=\"point\">8.99</td>, <td class=\"point\">8.92</td>, <td class=\"point\">8.83</td>, <td class=\"point\">8.82</td>, <td class=\"point\">8.77</td>, <td class=\"point\">8.76</td>, <td class=\"point\">8.64</td>, <td class=\"point\">8.59</td>, <td class=\"point\">8.54</td>, <td class=\"point\">8.54</td>, <td class=\"point\">8.53</td>, <td class=\"point\">8.52</td>, <td class=\"point\">8.50</td>, <td class=\"point\">8.46</td>, <td class=\"point\">8.44</td>, <td class=\"point\">8.41</td>, <td class=\"point\">8.30</td>, <td class=\"point\">8.24</td>, <td class=\"point\">7.59</td>, <td class=\"point\">7.57</td>, <td class=\"point\">7.34</td>, <td class=\"point\">7.16</td>, <td class=\"point\">7.03</td>, <td class=\"point\">7.01</td>, <td class=\"point\">6.98</td>, <td class=\"point\">6.93</td>, <td class=\"point\">6.80</td>, <td class=\"point\">6.43</td>, <td class=\"point\">5.46</td>, <td class=\"point\">2.65</td>]\n"
     ]
    },
    {
     "name": "stdout",
     "output_type": "stream",
     "text": [
      "[<td class=\"point\">9.56</td>, <td class=\"point\">9.40</td>, <td class=\"point\">9.38</td>, <td class=\"point\">9.35</td>, <td class=\"point\">9.33</td>, <td class=\"point\">9.25</td>, <td class=\"point\">9.23</td>, <td class=\"point\">9.19</td>, <td class=\"point\">9.17</td>, <td class=\"point\">9.06</td>, <td class=\"point\">9.05</td>, <td class=\"point\">9.02</td>, <td class=\"point\">8.98</td>, <td class=\"point\">8.92</td>, <td class=\"point\">8.83</td>, <td class=\"point\">8.82</td>, <td class=\"point\">8.77</td>, <td class=\"point\">8.76</td>, <td class=\"point\">8.76</td>, <td class=\"point\">8.64</td>, <td class=\"point\">8.59</td>, <td class=\"point\">8.54</td>, <td class=\"point\">8.54</td>, <td class=\"point\">8.53</td>, <td class=\"point\">8.52</td>, <td class=\"point\">8.50</td>, <td class=\"point\">8.46</td>, <td class=\"point\">8.41</td>, <td class=\"point\">8.41</td>, <td class=\"point\">8.40</td>, <td class=\"point\">8.30</td>, <td class=\"point\">8.22</td>, <td class=\"point\">8.08</td>, <td class=\"point\">7.60</td>, <td class=\"point\">7.57</td>, <td class=\"point\">7.34</td>, <td class=\"point\">7.17</td>, <td class=\"point\">7.03</td>, <td class=\"point\">6.98</td>, <td class=\"point\">6.91</td>, <td class=\"point\">6.81</td>, <td class=\"point\">6.64</td>, <td class=\"point\">6.43</td>, <td class=\"point\">5.45</td>, <td class=\"point\">2.66</td>]\n",
      "[<td class=\"point\">9.56</td>, <td class=\"point\">9.40</td>, <td class=\"point\">9.38</td>, <td class=\"point\">9.33</td>, <td class=\"point\">9.25</td>, <td class=\"point\">9.23</td>, <td class=\"point\">9.19</td>, <td class=\"point\">9.17</td>, <td class=\"point\">9.15</td>, <td class=\"point\">9.05</td>, <td class=\"point\">9.02</td>, <td class=\"point\">8.98</td>, <td class=\"point\">8.92</td>, <td class=\"point\">8.91</td>, <td class=\"point\">8.83</td>, <td class=\"point\">8.82</td>, <td class=\"point\">8.77</td>, <td class=\"point\">8.75</td>, <td class=\"point\">8.75</td>, <td class=\"point\">8.64</td>, <td class=\"point\">8.59</td>, <td class=\"point\">8.54</td>, <td class=\"point\">8.54</td>, <td class=\"point\">8.52</td>, <td class=\"point\">8.50</td>, <td class=\"point\">8.46</td>, <td class=\"point\">8.41</td>, <td class=\"point\">8.41</td>, <td class=\"point\">8.40</td>, <td class=\"point\">8.30</td>, <td class=\"point\">8.21</td>, <td class=\"point\">8.08</td>, <td class=\"point\">7.61</td>, <td class=\"point\">7.57</td>, <td class=\"point\">7.34</td>, <td class=\"point\">7.18</td>, <td class=\"point\">7.03</td>, <td class=\"point\">6.91</td>, <td class=\"point\">6.81</td>, <td class=\"point\">6.51</td>, <td class=\"point\">6.41</td>, <td class=\"point\">5.45</td>, <td class=\"point\">2.66</td>]\n",
      "[<td class=\"point\">9.55</td>, <td class=\"point\">9.40</td>, <td class=\"point\">9.38</td>, <td class=\"point\">9.33</td>, <td class=\"point\">9.32</td>, <td class=\"point\">9.25</td>, <td class=\"point\">9.23</td>, <td class=\"point\">9.23</td>, <td class=\"point\">9.21</td>, <td class=\"point\">9.19</td>, <td class=\"point\">9.18</td>, <td class=\"point\">9.18</td>, <td class=\"point\">9.13</td>, <td class=\"point\">9.08</td>, <td class=\"point\">9.05</td>, <td class=\"point\">9.02</td>, <td class=\"point\">8.97</td>, <td class=\"point\">8.92</td>, <td class=\"point\">8.91</td>, <td class=\"point\">8.83</td>, <td class=\"point\">8.83</td>, <td class=\"point\">8.83</td>, <td class=\"point\">8.77</td>, <td class=\"point\">8.75</td>, <td class=\"point\">8.74</td>, <td class=\"point\">8.63</td>, <td class=\"point\">8.59</td>, <td class=\"point\">8.58</td>, <td class=\"point\">8.54</td>, <td class=\"point\">8.54</td>, <td class=\"point\">8.53</td>, <td class=\"point\">8.53</td>, <td class=\"point\">8.49</td>, <td class=\"point\">8.46</td>, <td class=\"point\">8.41</td>, <td class=\"point\">8.40</td>, <td class=\"point\">8.40</td>, <td class=\"point\">8.35</td>, <td class=\"point\">8.30</td>, <td class=\"point\">8.21</td>, <td class=\"point\">8.08</td>, <td class=\"point\">8.02</td>, <td class=\"point\">8.01</td>, <td class=\"point\">7.62</td>, <td class=\"point\">7.57</td>, <td class=\"point\">7.33</td>, <td class=\"point\">7.19</td>, <td class=\"point\">7.03</td>, <td class=\"point\">6.93</td>, <td class=\"point\">6.81</td>]\n",
      "[<td class=\"point\">9.54</td>, <td class=\"point\">9.40</td>, <td class=\"point\">9.38</td>, <td class=\"point\">9.33</td>, <td class=\"point\">9.32</td>, <td class=\"point\">9.25</td>, <td class=\"point\">9.23</td>, <td class=\"point\">9.23</td>, <td class=\"point\">9.21</td>, <td class=\"point\">9.19</td>, <td class=\"point\">9.18</td>, <td class=\"point\">9.16</td>, <td class=\"point\">9.10</td>, <td class=\"point\">9.08</td>, <td class=\"point\">9.05</td>, <td class=\"point\">9.02</td>, <td class=\"point\">8.96</td>, <td class=\"point\">8.92</td>, <td class=\"point\">8.91</td>, <td class=\"point\">8.83</td>, <td class=\"point\">8.83</td>, <td class=\"point\">8.83</td>, <td class=\"point\">8.77</td>, <td class=\"point\">8.76</td>, <td class=\"point\">8.74</td>, <td class=\"point\">8.63</td>, <td class=\"point\">8.59</td>, <td class=\"point\">8.58</td>, <td class=\"point\">8.54</td>, <td class=\"point\">8.54</td>, <td class=\"point\">8.53</td>, <td class=\"point\">8.53</td>, <td class=\"point\">8.49</td>, <td class=\"point\">8.46</td>, <td class=\"point\">8.41</td>, <td class=\"point\">8.40</td>, <td class=\"point\">8.39</td>, <td class=\"point\">8.35</td>, <td class=\"point\">8.30</td>, <td class=\"point\">8.21</td>, <td class=\"point\">8.08</td>, <td class=\"point\">8.02</td>, <td class=\"point\">8.01</td>, <td class=\"point\">7.63</td>, <td class=\"point\">7.57</td>, <td class=\"point\">7.33</td>, <td class=\"point\">7.20</td>, <td class=\"point\">7.03</td>, <td class=\"point\">6.92</td>, <td class=\"point\">6.81</td>]\n",
      "[<td class=\"point\">9.52</td>, <td class=\"point\">9.40</td>, <td class=\"point\">9.38</td>, <td class=\"point\">9.33</td>, <td class=\"point\">9.32</td>, <td class=\"point\">9.25</td>, <td class=\"point\">9.23</td>, <td class=\"point\">9.23</td>, <td class=\"point\">9.21</td>, <td class=\"point\">9.19</td>, <td class=\"point\">9.18</td>, <td class=\"point\">9.11</td>, <td class=\"point\">9.09</td>, <td class=\"point\">9.08</td>, <td class=\"point\">9.05</td>, <td class=\"point\">9.02</td>, <td class=\"point\">8.95</td>, <td class=\"point\">8.92</td>, <td class=\"point\">8.83</td>, <td class=\"point\">8.83</td>, <td class=\"point\">8.83</td>, <td class=\"point\">8.76</td>, <td class=\"point\">8.74</td>, <td class=\"point\">8.73</td>, <td class=\"point\">8.63</td>, <td class=\"point\">8.59</td>, <td class=\"point\">8.58</td>, <td class=\"point\">8.54</td>, <td class=\"point\">8.53</td>, <td class=\"point\">8.53</td>, <td class=\"point\">8.49</td>, <td class=\"point\">8.46</td>, <td class=\"point\">8.41</td>, <td class=\"point\">8.41</td>, <td class=\"point\">8.39</td>, <td class=\"point\">8.35</td>, <td class=\"point\">8.30</td>, <td class=\"point\">8.21</td>, <td class=\"point\">8.08</td>, <td class=\"point\">8.02</td>, <td class=\"point\">8.01</td>, <td class=\"point\">7.64</td>, <td class=\"point\">7.57</td>, <td class=\"point\">7.33</td>, <td class=\"point\">7.21</td>, <td class=\"point\">7.03</td>, <td class=\"point\">6.92</td>, <td class=\"point\">6.81</td>, <td class=\"point\">6.49</td>, <td class=\"point\">6.40</td>]\n"
     ]
    }
   ],
   "source": [
    "import urllib\n",
    "movie_date = []\n",
    "movie_name = []\n",
    "movie_point = []\n",
    "for selectedDate in date:\n",
    "    url_base = \"https://movie.naver.com/movie/sdb/rank/rmovie.nhn?sel=cur&date={date}\"\n",
    "    temp = urlopen(url_base.format(date=urllib.parse.quote(selectedDate.strftime('%Y%m%d'))))\n",
    "    #print(url_base.format(date=urllib.parse.quote(selectedDate.strftime('%Y%m%d'))))\n",
    "    soup = BeautifulSoup(temp, \"html.parser\")\n",
    "    #print(soup)\n",
    "    point = soup.find_all(\"td\", 'point')\n",
    "    print(point)\n",
    "    \n",
    "\n"
   ]
  },
  {
   "cell_type": "code",
   "execution_count": null,
   "metadata": {},
   "outputs": [],
   "source": []
  },
  {
   "cell_type": "code",
   "execution_count": null,
   "metadata": {},
   "outputs": [],
   "source": []
  },
  {
   "cell_type": "code",
   "execution_count": null,
   "metadata": {},
   "outputs": [],
   "source": []
  },
  {
   "cell_type": "code",
   "execution_count": null,
   "metadata": {},
   "outputs": [],
   "source": []
  }
 ],
 "metadata": {
  "kernelspec": {
   "display_name": "Python 3",
   "language": "python",
   "name": "python3"
  },
  "language_info": {
   "codemirror_mode": {
    "name": "ipython",
    "version": 3
   },
   "file_extension": ".py",
   "mimetype": "text/x-python",
   "name": "python",
   "nbconvert_exporter": "python",
   "pygments_lexer": "ipython3",
   "version": "3.6.4"
  }
 },
 "nbformat": 4,
 "nbformat_minor": 2
}
