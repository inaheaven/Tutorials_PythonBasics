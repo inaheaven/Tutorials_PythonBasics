{
 "cells": [
  {
   "cell_type": "code",
   "execution_count": 4,
   "metadata": {},
   "outputs": [],
   "source": [
    "from bs4 import BeautifulSoup\n",
    "import pandas as pd\n",
    "from urllib.request import urlopen"
   ]
  },
  {
   "cell_type": "code",
   "execution_count": 15,
   "metadata": {},
   "outputs": [
    {
     "data": {
      "text/plain": [
       "'덕구'"
      ]
     },
     "execution_count": 15,
     "metadata": {},
     "output_type": "execute_result"
    }
   ],
   "source": [
    "url_base = \"https://movie.naver.com/\"\n",
    "url_sub = \"movie/sdb/rank/rmovie.nhn?sel=cur&date=20180428\"\n",
    "page = urlopen(url_base+url_sub)\n",
    "soup = BeautifulSoup(page, \"html.parser\")\n",
    "soup.find_all('div', 'tit5')[0]\n",
    "soup.find_all('div', 'tit5')[0].a\n",
    "soup.find_all('div', 'tit5')[0].a.string"
   ]
  },
  {
   "cell_type": "code",
   "execution_count": 20,
   "metadata": {},
   "outputs": [
    {
     "data": {
      "text/plain": [
       "[<div class=\"tit5\">\n",
       " <a href=\"/movie/bi/mi/basic.nhn?code=154667\" title=\"덕구\">덕구</a>\n",
       " </div>, <div class=\"tit5\">\n",
       " <a href=\"/movie/bi/mi/basic.nhn?code=151196\" title=\"원더\">원더</a>\n",
       " </div>, <div class=\"tit5\">\n",
       " <a href=\"/movie/bi/mi/basic.nhn?code=106360\" title=\"위대한 쇼맨\">위대한 쇼맨</a>\n",
       " </div>, <div class=\"tit5\">\n",
       " <a href=\"/movie/bi/mi/basic.nhn?code=39636\" title=\"지금, 만나러 갑니다\">지금, 만나러 갑니다</a>\n",
       " </div>, <div class=\"tit5\">\n",
       " <a href=\"/movie/bi/mi/basic.nhn?code=164290\" title=\"킹 오브 프리즘 프라이드 더 히어로\">킹 오브 프리즘 프라이드 더 히어로</a>\n",
       " </div>, <div class=\"tit5\">\n",
       " <a href=\"/movie/bi/mi/basic.nhn?code=17162\" title=\"브레이브하트\">브레이브하트</a>\n",
       " </div>, <div class=\"tit5\">\n",
       " <a href=\"/movie/bi/mi/basic.nhn?code=10101\" title=\"로마의 휴일\">로마의 휴일</a>\n",
       " </div>, <div class=\"tit5\">\n",
       " <a href=\"/movie/bi/mi/basic.nhn?code=150376\" title=\"나, 다니엘 블레이크\">나, 다니엘 블레이크</a>\n",
       " </div>, <div class=\"tit5\">\n",
       " <a href=\"/movie/bi/mi/basic.nhn?code=146504\" title=\"우리들\">우리들</a>\n",
       " </div>, <div class=\"tit5\">\n",
       " <a href=\"/movie/bi/mi/basic.nhn?code=144379\" title=\"러빙 빈센트\">러빙 빈센트</a>\n",
       " </div>, <div class=\"tit5\">\n",
       " <a href=\"/movie/bi/mi/basic.nhn?code=154437\" title=\"내 사랑\">내 사랑</a>\n",
       " </div>, <div class=\"tit5\">\n",
       " <a href=\"/movie/bi/mi/basic.nhn?code=136315\" title=\"어벤져스: 인피니티 워\">어벤져스: 인피니티 워</a>\n",
       " </div>, <div class=\"tit5\">\n",
       " <a href=\"/movie/bi/mi/basic.nhn?code=173653\" title=\"그날, 바다\">그날, 바다</a>\n",
       " </div>, <div class=\"tit5\">\n",
       " <a href=\"/movie/bi/mi/basic.nhn?code=27219\" title=\"박하사탕\">박하사탕</a>\n",
       " </div>, <div class=\"tit5\">\n",
       " <a href=\"/movie/bi/mi/basic.nhn?code=151254\" title=\"비밥바룰라\">비밥바룰라</a>\n",
       " </div>, <div class=\"tit5\">\n",
       " <a href=\"/movie/bi/mi/basic.nhn?code=96379\" title=\"비긴 어게인\">비긴 어게인</a>\n",
       " </div>, <div class=\"tit5\">\n",
       " <a href=\"/movie/bi/mi/basic.nhn?code=159311\" title=\"소공녀\">소공녀</a>\n",
       " </div>, <div class=\"tit5\">\n",
       " <a href=\"/movie/bi/mi/basic.nhn?code=158610\" title=\"쓰리 빌보드\">쓰리 빌보드</a>\n",
       " </div>, <div class=\"tit5\">\n",
       " <a href=\"/movie/bi/mi/basic.nhn?code=87309\" title=\"라이프 오브 파이\">라이프 오브 파이</a>\n",
       " </div>, <div class=\"tit5\">\n",
       " <a href=\"/movie/bi/mi/basic.nhn?code=38546\" title=\"아무도 모른다\">아무도 모른다</a>\n",
       " </div>, <div class=\"tit5\">\n",
       " <a href=\"/movie/bi/mi/basic.nhn?code=156912\" title=\"안녕, 나의 소울메이트\">안녕, 나의 소울메이트</a>\n",
       " </div>, <div class=\"tit5\">\n",
       " <a href=\"/movie/bi/mi/basic.nhn?code=154449\" title=\"리틀 포레스트\">리틀 포레스트</a>\n",
       " </div>, <div class=\"tit5\">\n",
       " <a href=\"/movie/bi/mi/basic.nhn?code=168298\" title=\"지금 만나러 갑니다\">지금 만나러 갑니다</a>\n",
       " </div>, <div class=\"tit5\">\n",
       " <a href=\"/movie/bi/mi/basic.nhn?code=159848\" title=\"더 포스트\">더 포스트</a>\n",
       " </div>, <div class=\"tit5\">\n",
       " <a href=\"/movie/bi/mi/basic.nhn?code=136898\" title=\"레디 플레이어 원\">레디 플레이어 원</a>\n",
       " </div>, <div class=\"tit5\">\n",
       " <a href=\"/movie/bi/mi/basic.nhn?code=158611\" title=\"레이디 버드\">레이디 버드</a>\n",
       " </div>, <div class=\"tit5\">\n",
       " <a href=\"/movie/bi/mi/basic.nhn?code=85606\" title=\"자전거 탄 소년\">자전거 탄 소년</a>\n",
       " </div>, <div class=\"tit5\">\n",
       " <a href=\"/movie/bi/mi/basic.nhn?code=103797\" title=\"족구왕\">족구왕</a>\n",
       " </div>, <div class=\"tit5\">\n",
       " <a href=\"/movie/bi/mi/basic.nhn?code=132946\" title=\"4등\">4등</a>\n",
       " </div>, <div class=\"tit5\">\n",
       " <a href=\"/movie/bi/mi/basic.nhn?code=164719\" title=\"플로리다 프로젝트\">플로리다 프로젝트</a>\n",
       " </div>, <div class=\"tit5\">\n",
       " <a href=\"/movie/bi/mi/basic.nhn?code=162249\" title=\"램페이지\">램페이지</a>\n",
       " </div>, <div class=\"tit5\">\n",
       " <a href=\"/movie/bi/mi/basic.nhn?code=158645\" title=\"팬텀 스레드\">팬텀 스레드</a>\n",
       " </div>, <div class=\"tit5\">\n",
       " <a href=\"/movie/bi/mi/basic.nhn?code=162153\" title=\"B급 며느리\">B급 며느리</a>\n",
       " </div>, <div class=\"tit5\">\n",
       " <a href=\"/movie/bi/mi/basic.nhn?code=158626\" title=\"셰이프 오브 워터: 사랑의 모양\">셰이프 오브 워터: 사랑의 모양</a>\n",
       " </div>, <div class=\"tit5\">\n",
       " <a href=\"/movie/bi/mi/basic.nhn?code=168037\" title=\"12 솔져스\">12 솔져스</a>\n",
       " </div>, <div class=\"tit5\">\n",
       " <a href=\"/movie/bi/mi/basic.nhn?code=147945\" title=\"다가오는 것들\">다가오는 것들</a>\n",
       " </div>, <div class=\"tit5\">\n",
       " <a href=\"/movie/bi/mi/basic.nhn?code=144975\" title=\"패터슨\">패터슨</a>\n",
       " </div>, <div class=\"tit5\">\n",
       " <a href=\"/movie/bi/mi/basic.nhn?code=168011\" title=\"콰이어트 플레이스\">콰이어트 플레이스</a>\n",
       " </div>, <div class=\"tit5\">\n",
       " <a href=\"/movie/bi/mi/basic.nhn?code=74954\" title=\"두 번의 결혼식과 한 번의 장례식\">두 번의 결혼식과 한 번의 장례식</a>\n",
       " </div>, <div class=\"tit5\">\n",
       " <a href=\"/movie/bi/mi/basic.nhn?code=151117\" title=\"더 테이블\">더 테이블</a>\n",
       " </div>, <div class=\"tit5\">\n",
       " <a href=\"/movie/bi/mi/basic.nhn?code=31368\" title=\"환상의 빛\">환상의 빛</a>\n",
       " </div>, <div class=\"tit5\">\n",
       " <a href=\"/movie/bi/mi/basic.nhn?code=172117\" title=\"문호 스트레이독스 [데드애플]\">문호 스트레이독스 [데드애플]</a>\n",
       " </div>, <div class=\"tit5\">\n",
       " <a href=\"/movie/bi/mi/basic.nhn?code=137326\" title=\"블랙 팬서\">블랙 팬서</a>\n",
       " </div>, <div class=\"tit5\">\n",
       " <a href=\"/movie/bi/mi/basic.nhn?code=125418\" title=\"튤립 피버\">튤립 피버</a>\n",
       " </div>, <div class=\"tit5\">\n",
       " <a href=\"/movie/bi/mi/basic.nhn?code=158885\" title=\"콜 미 바이 유어 네임\">콜 미 바이 유어 네임</a>\n",
       " </div>, <div class=\"tit5\">\n",
       " <a href=\"/movie/bi/mi/basic.nhn?code=165026\" title=\"사라진 밤\">사라진 밤</a>\n",
       " </div>, <div class=\"tit5\">\n",
       " <a href=\"/movie/bi/mi/basic.nhn?code=158555\" title=\"나를 기억해\">나를 기억해</a>\n",
       " </div>, <div class=\"tit5\">\n",
       " <a href=\"/movie/bi/mi/basic.nhn?code=172454\" title=\"곤지암\">곤지암</a>\n",
       " </div>, <div class=\"tit5\">\n",
       " <a href=\"/movie/bi/mi/basic.nhn?code=162956\" title=\"그 후\">그 후</a>\n",
       " </div>, <div class=\"tit5\">\n",
       " <a href=\"/movie/bi/mi/basic.nhn?code=142739\" title=\"바람 바람 바람\">바람 바람 바람</a>\n",
       " </div>]"
      ]
     },
     "execution_count": 20,
     "metadata": {},
     "output_type": "execute_result"
    }
   ],
   "source": [
    "soup.find_all('td', 'point')[0].string\n",
    "soup.find_all('div', 'tit5')"
   ]
  },
  {
   "cell_type": "code",
   "execution_count": 24,
   "metadata": {},
   "outputs": [
    {
     "data": {
      "text/plain": [
       "list"
      ]
     },
     "execution_count": 24,
     "metadata": {},
     "output_type": "execute_result"
    }
   ],
   "source": [
    "movies = [soup.find_all('div','tit5')[inx]for inx in range(0, 49)]\n",
    "type(movies)"
   ]
  },
  {
   "cell_type": "code",
   "execution_count": null,
   "metadata": {},
   "outputs": [],
   "source": []
  },
  {
   "cell_type": "code",
   "execution_count": null,
   "metadata": {},
   "outputs": [],
   "source": []
  },
  {
   "cell_type": "code",
   "execution_count": null,
   "metadata": {},
   "outputs": [],
   "source": []
  },
  {
   "cell_type": "code",
   "execution_count": null,
   "metadata": {},
   "outputs": [],
   "source": []
  },
  {
   "cell_type": "code",
   "execution_count": null,
   "metadata": {},
   "outputs": [],
   "source": []
  },
  {
   "cell_type": "code",
   "execution_count": null,
   "metadata": {},
   "outputs": [],
   "source": []
  },
  {
   "cell_type": "code",
   "execution_count": null,
   "metadata": {},
   "outputs": [],
   "source": []
  }
 ],
 "metadata": {
  "kernelspec": {
   "display_name": "Python 3",
   "language": "python",
   "name": "python3"
  },
  "language_info": {
   "codemirror_mode": {
    "name": "ipython",
    "version": 3
   },
   "file_extension": ".py",
   "mimetype": "text/x-python",
   "name": "python",
   "nbconvert_exporter": "python",
   "pygments_lexer": "ipython3",
   "version": "3.6.4"
  }
 },
 "nbformat": 4,
 "nbformat_minor": 2
}
